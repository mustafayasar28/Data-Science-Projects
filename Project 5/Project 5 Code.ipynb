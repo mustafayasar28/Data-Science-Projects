{
 "cells": [
  {
   "cell_type": "code",
   "execution_count": null,
   "id": "0b3723a0-b1fb-4548-8092-fc655e124d01",
   "metadata": {
    "tags": []
   },
   "outputs": [],
   "source": [
    "# If the skmultiflow is not installed, please uncomment the code below\n",
    "\n",
    "#pip install -U git+https://github.com/scikit-multiflow/scikit-multiflow"
   ]
  },
  {
   "cell_type": "markdown",
   "id": "5d14bf13-687d-4193-9b87-14d46ff0e377",
   "metadata": {},
   "source": [
    "### Imports"
   ]
  },
  {
   "cell_type": "code",
   "execution_count": 1,
   "id": "16c56e5a-f01a-4b2f-bd53-fea666b24a22",
   "metadata": {},
   "outputs": [],
   "source": [
    "from skmultiflow.data import HyperplaneGenerator\n",
    "from skmultiflow.trees import HoeffdingTreeClassifier\n",
    "from skmultiflow.lazy import KNNClassifier\n",
    "from skmultiflow.bayes import NaiveBayes\n",
    "\n",
    "import numpy as np\n",
    "import pandas as pd\n",
    "import matplotlib.pyplot as plt\n",
    "from matplotlib.ticker import MaxNLocator\n",
    "import time\n",
    "\n",
    "import warnings\n",
    "warnings.filterwarnings(\"ignore\")"
   ]
  },
  {
   "cell_type": "markdown",
   "id": "591c2a87-8cb6-47e7-bb53-a4faac9e7965",
   "metadata": {},
   "source": [
    "# Work to be Done"
   ]
  },
  {
   "cell_type": "markdown",
   "id": "c1b61747-ef6d-4437-81c9-fd1a09601a37",
   "metadata": {},
   "source": [
    "## 1. Dataset Generation"
   ]
  },
  {
   "cell_type": "code",
   "execution_count": 2,
   "id": "4807967b-42b2-43ef-8362-4bf60621b0a1",
   "metadata": {},
   "outputs": [
    {
     "data": {
      "text/html": [
       "<div>\n",
       "<style scoped>\n",
       "    .dataframe tbody tr th:only-of-type {\n",
       "        vertical-align: middle;\n",
       "    }\n",
       "\n",
       "    .dataframe tbody tr th {\n",
       "        vertical-align: top;\n",
       "    }\n",
       "\n",
       "    .dataframe thead th {\n",
       "        text-align: right;\n",
       "    }\n",
       "</style>\n",
       "<table border=\"1\" class=\"dataframe\">\n",
       "  <thead>\n",
       "    <tr style=\"text-align: right;\">\n",
       "      <th></th>\n",
       "      <th>0</th>\n",
       "      <th>1</th>\n",
       "      <th>2</th>\n",
       "      <th>3</th>\n",
       "      <th>4</th>\n",
       "      <th>5</th>\n",
       "      <th>6</th>\n",
       "      <th>7</th>\n",
       "      <th>8</th>\n",
       "      <th>9</th>\n",
       "      <th>10</th>\n",
       "    </tr>\n",
       "  </thead>\n",
       "  <tbody>\n",
       "    <tr>\n",
       "      <th>0</th>\n",
       "      <td>0.544973</td>\n",
       "      <td>0.136044</td>\n",
       "      <td>0.026597</td>\n",
       "      <td>0.826755</td>\n",
       "      <td>0.844116</td>\n",
       "      <td>0.609194</td>\n",
       "      <td>0.249965</td>\n",
       "      <td>0.173300</td>\n",
       "      <td>0.020475</td>\n",
       "      <td>0.064433</td>\n",
       "      <td>0.0</td>\n",
       "    </tr>\n",
       "    <tr>\n",
       "      <th>1</th>\n",
       "      <td>0.057770</td>\n",
       "      <td>0.410093</td>\n",
       "      <td>0.530724</td>\n",
       "      <td>0.395047</td>\n",
       "      <td>0.838492</td>\n",
       "      <td>0.466994</td>\n",
       "      <td>0.354566</td>\n",
       "      <td>0.671094</td>\n",
       "      <td>0.199478</td>\n",
       "      <td>0.645635</td>\n",
       "      <td>0.0</td>\n",
       "    </tr>\n",
       "    <tr>\n",
       "      <th>2</th>\n",
       "      <td>0.899824</td>\n",
       "      <td>0.260812</td>\n",
       "      <td>0.304893</td>\n",
       "      <td>0.992188</td>\n",
       "      <td>0.966578</td>\n",
       "      <td>0.785798</td>\n",
       "      <td>0.191072</td>\n",
       "      <td>0.194729</td>\n",
       "      <td>0.445615</td>\n",
       "      <td>0.240992</td>\n",
       "      <td>1.0</td>\n",
       "    </tr>\n",
       "    <tr>\n",
       "      <th>3</th>\n",
       "      <td>0.173040</td>\n",
       "      <td>0.542823</td>\n",
       "      <td>0.151718</td>\n",
       "      <td>0.526994</td>\n",
       "      <td>0.668003</td>\n",
       "      <td>0.661134</td>\n",
       "      <td>0.568912</td>\n",
       "      <td>0.644658</td>\n",
       "      <td>0.638315</td>\n",
       "      <td>0.683778</td>\n",
       "      <td>1.0</td>\n",
       "    </tr>\n",
       "    <tr>\n",
       "      <th>4</th>\n",
       "      <td>0.874571</td>\n",
       "      <td>0.459224</td>\n",
       "      <td>0.744191</td>\n",
       "      <td>0.815678</td>\n",
       "      <td>0.152806</td>\n",
       "      <td>0.015684</td>\n",
       "      <td>0.594759</td>\n",
       "      <td>0.765256</td>\n",
       "      <td>0.874106</td>\n",
       "      <td>0.784010</td>\n",
       "      <td>1.0</td>\n",
       "    </tr>\n",
       "    <tr>\n",
       "      <th>...</th>\n",
       "      <td>...</td>\n",
       "      <td>...</td>\n",
       "      <td>...</td>\n",
       "      <td>...</td>\n",
       "      <td>...</td>\n",
       "      <td>...</td>\n",
       "      <td>...</td>\n",
       "      <td>...</td>\n",
       "      <td>...</td>\n",
       "      <td>...</td>\n",
       "      <td>...</td>\n",
       "    </tr>\n",
       "    <tr>\n",
       "      <th>19995</th>\n",
       "      <td>0.791991</td>\n",
       "      <td>0.721054</td>\n",
       "      <td>0.527357</td>\n",
       "      <td>0.306207</td>\n",
       "      <td>0.503294</td>\n",
       "      <td>0.536983</td>\n",
       "      <td>0.328190</td>\n",
       "      <td>0.008763</td>\n",
       "      <td>0.074740</td>\n",
       "      <td>0.348050</td>\n",
       "      <td>0.0</td>\n",
       "    </tr>\n",
       "    <tr>\n",
       "      <th>19996</th>\n",
       "      <td>0.590742</td>\n",
       "      <td>0.374834</td>\n",
       "      <td>0.120398</td>\n",
       "      <td>0.768424</td>\n",
       "      <td>0.528010</td>\n",
       "      <td>0.899820</td>\n",
       "      <td>0.313605</td>\n",
       "      <td>0.121674</td>\n",
       "      <td>0.201746</td>\n",
       "      <td>0.937506</td>\n",
       "      <td>1.0</td>\n",
       "    </tr>\n",
       "    <tr>\n",
       "      <th>19997</th>\n",
       "      <td>0.546814</td>\n",
       "      <td>0.278311</td>\n",
       "      <td>0.907759</td>\n",
       "      <td>0.163534</td>\n",
       "      <td>0.490046</td>\n",
       "      <td>0.102152</td>\n",
       "      <td>0.886286</td>\n",
       "      <td>0.520835</td>\n",
       "      <td>0.656903</td>\n",
       "      <td>0.519200</td>\n",
       "      <td>0.0</td>\n",
       "    </tr>\n",
       "    <tr>\n",
       "      <th>19998</th>\n",
       "      <td>0.222909</td>\n",
       "      <td>0.946849</td>\n",
       "      <td>0.393739</td>\n",
       "      <td>0.385399</td>\n",
       "      <td>0.746643</td>\n",
       "      <td>0.394023</td>\n",
       "      <td>0.677282</td>\n",
       "      <td>0.847235</td>\n",
       "      <td>0.630952</td>\n",
       "      <td>0.778475</td>\n",
       "      <td>1.0</td>\n",
       "    </tr>\n",
       "    <tr>\n",
       "      <th>19999</th>\n",
       "      <td>0.433301</td>\n",
       "      <td>0.265500</td>\n",
       "      <td>0.060216</td>\n",
       "      <td>0.542008</td>\n",
       "      <td>0.740529</td>\n",
       "      <td>0.791448</td>\n",
       "      <td>0.145263</td>\n",
       "      <td>0.586128</td>\n",
       "      <td>0.874907</td>\n",
       "      <td>0.125629</td>\n",
       "      <td>0.0</td>\n",
       "    </tr>\n",
       "  </tbody>\n",
       "</table>\n",
       "<p>20000 rows × 11 columns</p>\n",
       "</div>"
      ],
      "text/plain": [
       "             0         1         2         3         4         5         6   \\\n",
       "0      0.544973  0.136044  0.026597  0.826755  0.844116  0.609194  0.249965   \n",
       "1      0.057770  0.410093  0.530724  0.395047  0.838492  0.466994  0.354566   \n",
       "2      0.899824  0.260812  0.304893  0.992188  0.966578  0.785798  0.191072   \n",
       "3      0.173040  0.542823  0.151718  0.526994  0.668003  0.661134  0.568912   \n",
       "4      0.874571  0.459224  0.744191  0.815678  0.152806  0.015684  0.594759   \n",
       "...         ...       ...       ...       ...       ...       ...       ...   \n",
       "19995  0.791991  0.721054  0.527357  0.306207  0.503294  0.536983  0.328190   \n",
       "19996  0.590742  0.374834  0.120398  0.768424  0.528010  0.899820  0.313605   \n",
       "19997  0.546814  0.278311  0.907759  0.163534  0.490046  0.102152  0.886286   \n",
       "19998  0.222909  0.946849  0.393739  0.385399  0.746643  0.394023  0.677282   \n",
       "19999  0.433301  0.265500  0.060216  0.542008  0.740529  0.791448  0.145263   \n",
       "\n",
       "             7         8         9    10  \n",
       "0      0.173300  0.020475  0.064433  0.0  \n",
       "1      0.671094  0.199478  0.645635  0.0  \n",
       "2      0.194729  0.445615  0.240992  1.0  \n",
       "3      0.644658  0.638315  0.683778  1.0  \n",
       "4      0.765256  0.874106  0.784010  1.0  \n",
       "...         ...       ...       ...  ...  \n",
       "19995  0.008763  0.074740  0.348050  0.0  \n",
       "19996  0.121674  0.201746  0.937506  1.0  \n",
       "19997  0.520835  0.656903  0.519200  0.0  \n",
       "19998  0.847235  0.630952  0.778475  1.0  \n",
       "19999  0.586128  0.874907  0.125629  0.0  \n",
       "\n",
       "[20000 rows x 11 columns]"
      ]
     },
     "execution_count": 2,
     "metadata": {},
     "output_type": "execute_result"
    }
   ],
   "source": [
    "# Generate Hyperplane dataset with 20,000 instance (10 features and a label)\n",
    "\n",
    "hyperplane_dataset_1 = HyperplaneGenerator(random_state=890, n_features=10, noise_percentage=0)\n",
    "hyperplane_dataset_1.prepare_for_use()\n",
    "X, Y = hyperplane_dataset_1.next_sample(20000)\n",
    "data = pd.DataFrame(np.hstack((X, np.array([Y]).T)))\n",
    "data"
   ]
  },
  {
   "cell_type": "markdown",
   "id": "cfc7d7d9-2c67-4896-b986-8ecb53f6cf2d",
   "metadata": {},
   "source": [
    "### 1.a. Hyperplane Dataset (noise= 10%, number of drifting features 2)"
   ]
  },
  {
   "cell_type": "code",
   "execution_count": 2,
   "id": "9c808656-722c-40ca-b296-d9134eebe047",
   "metadata": {},
   "outputs": [
    {
     "data": {
      "text/html": [
       "<div>\n",
       "<style scoped>\n",
       "    .dataframe tbody tr th:only-of-type {\n",
       "        vertical-align: middle;\n",
       "    }\n",
       "\n",
       "    .dataframe tbody tr th {\n",
       "        vertical-align: top;\n",
       "    }\n",
       "\n",
       "    .dataframe thead th {\n",
       "        text-align: right;\n",
       "    }\n",
       "</style>\n",
       "<table border=\"1\" class=\"dataframe\">\n",
       "  <thead>\n",
       "    <tr style=\"text-align: right;\">\n",
       "      <th></th>\n",
       "      <th>0</th>\n",
       "      <th>1</th>\n",
       "      <th>2</th>\n",
       "      <th>3</th>\n",
       "      <th>4</th>\n",
       "      <th>5</th>\n",
       "      <th>6</th>\n",
       "      <th>7</th>\n",
       "      <th>8</th>\n",
       "      <th>9</th>\n",
       "      <th>10</th>\n",
       "    </tr>\n",
       "  </thead>\n",
       "  <tbody>\n",
       "    <tr>\n",
       "      <th>0</th>\n",
       "      <td>0.899478</td>\n",
       "      <td>0.248365</td>\n",
       "      <td>0.030172</td>\n",
       "      <td>0.072447</td>\n",
       "      <td>0.874164</td>\n",
       "      <td>0.558430</td>\n",
       "      <td>0.916047</td>\n",
       "      <td>0.633460</td>\n",
       "      <td>0.283253</td>\n",
       "      <td>0.365369</td>\n",
       "      <td>1.0</td>\n",
       "    </tr>\n",
       "    <tr>\n",
       "      <th>1</th>\n",
       "      <td>0.705171</td>\n",
       "      <td>0.648509</td>\n",
       "      <td>0.040909</td>\n",
       "      <td>0.211732</td>\n",
       "      <td>0.001490</td>\n",
       "      <td>0.138972</td>\n",
       "      <td>0.211825</td>\n",
       "      <td>0.026095</td>\n",
       "      <td>0.446087</td>\n",
       "      <td>0.239105</td>\n",
       "      <td>0.0</td>\n",
       "    </tr>\n",
       "    <tr>\n",
       "      <th>2</th>\n",
       "      <td>0.091587</td>\n",
       "      <td>0.977452</td>\n",
       "      <td>0.411501</td>\n",
       "      <td>0.458305</td>\n",
       "      <td>0.525909</td>\n",
       "      <td>0.294416</td>\n",
       "      <td>0.972116</td>\n",
       "      <td>0.181444</td>\n",
       "      <td>0.303406</td>\n",
       "      <td>0.174454</td>\n",
       "      <td>0.0</td>\n",
       "    </tr>\n",
       "    <tr>\n",
       "      <th>3</th>\n",
       "      <td>0.635272</td>\n",
       "      <td>0.496203</td>\n",
       "      <td>0.014126</td>\n",
       "      <td>0.627222</td>\n",
       "      <td>0.634975</td>\n",
       "      <td>0.108141</td>\n",
       "      <td>0.829643</td>\n",
       "      <td>0.517752</td>\n",
       "      <td>0.570683</td>\n",
       "      <td>0.546333</td>\n",
       "      <td>1.0</td>\n",
       "    </tr>\n",
       "    <tr>\n",
       "      <th>4</th>\n",
       "      <td>0.450078</td>\n",
       "      <td>0.876507</td>\n",
       "      <td>0.537356</td>\n",
       "      <td>0.495684</td>\n",
       "      <td>0.418272</td>\n",
       "      <td>0.851006</td>\n",
       "      <td>0.386853</td>\n",
       "      <td>0.606895</td>\n",
       "      <td>0.217841</td>\n",
       "      <td>0.912944</td>\n",
       "      <td>1.0</td>\n",
       "    </tr>\n",
       "    <tr>\n",
       "      <th>...</th>\n",
       "      <td>...</td>\n",
       "      <td>...</td>\n",
       "      <td>...</td>\n",
       "      <td>...</td>\n",
       "      <td>...</td>\n",
       "      <td>...</td>\n",
       "      <td>...</td>\n",
       "      <td>...</td>\n",
       "      <td>...</td>\n",
       "      <td>...</td>\n",
       "      <td>...</td>\n",
       "    </tr>\n",
       "    <tr>\n",
       "      <th>19995</th>\n",
       "      <td>0.948650</td>\n",
       "      <td>0.485057</td>\n",
       "      <td>0.397131</td>\n",
       "      <td>0.450677</td>\n",
       "      <td>0.532419</td>\n",
       "      <td>0.207320</td>\n",
       "      <td>0.108824</td>\n",
       "      <td>0.875667</td>\n",
       "      <td>0.750174</td>\n",
       "      <td>0.091698</td>\n",
       "      <td>1.0</td>\n",
       "    </tr>\n",
       "    <tr>\n",
       "      <th>19996</th>\n",
       "      <td>0.442647</td>\n",
       "      <td>0.067846</td>\n",
       "      <td>0.403646</td>\n",
       "      <td>0.202704</td>\n",
       "      <td>0.085193</td>\n",
       "      <td>0.183511</td>\n",
       "      <td>0.586784</td>\n",
       "      <td>0.777532</td>\n",
       "      <td>0.978976</td>\n",
       "      <td>0.012463</td>\n",
       "      <td>0.0</td>\n",
       "    </tr>\n",
       "    <tr>\n",
       "      <th>19997</th>\n",
       "      <td>0.214319</td>\n",
       "      <td>0.774101</td>\n",
       "      <td>0.717450</td>\n",
       "      <td>0.338712</td>\n",
       "      <td>0.172461</td>\n",
       "      <td>0.553859</td>\n",
       "      <td>0.654631</td>\n",
       "      <td>0.804498</td>\n",
       "      <td>0.716806</td>\n",
       "      <td>0.714264</td>\n",
       "      <td>1.0</td>\n",
       "    </tr>\n",
       "    <tr>\n",
       "      <th>19998</th>\n",
       "      <td>0.372054</td>\n",
       "      <td>0.699841</td>\n",
       "      <td>0.360458</td>\n",
       "      <td>0.461629</td>\n",
       "      <td>0.774082</td>\n",
       "      <td>0.984725</td>\n",
       "      <td>0.289132</td>\n",
       "      <td>0.360727</td>\n",
       "      <td>0.116030</td>\n",
       "      <td>0.757635</td>\n",
       "      <td>0.0</td>\n",
       "    </tr>\n",
       "    <tr>\n",
       "      <th>19999</th>\n",
       "      <td>0.982108</td>\n",
       "      <td>0.333556</td>\n",
       "      <td>0.287180</td>\n",
       "      <td>0.947295</td>\n",
       "      <td>0.469515</td>\n",
       "      <td>0.080739</td>\n",
       "      <td>0.307357</td>\n",
       "      <td>0.093692</td>\n",
       "      <td>0.522380</td>\n",
       "      <td>0.376704</td>\n",
       "      <td>1.0</td>\n",
       "    </tr>\n",
       "  </tbody>\n",
       "</table>\n",
       "<p>20000 rows × 11 columns</p>\n",
       "</div>"
      ],
      "text/plain": [
       "             0         1         2         3         4         5         6   \\\n",
       "0      0.899478  0.248365  0.030172  0.072447  0.874164  0.558430  0.916047   \n",
       "1      0.705171  0.648509  0.040909  0.211732  0.001490  0.138972  0.211825   \n",
       "2      0.091587  0.977452  0.411501  0.458305  0.525909  0.294416  0.972116   \n",
       "3      0.635272  0.496203  0.014126  0.627222  0.634975  0.108141  0.829643   \n",
       "4      0.450078  0.876507  0.537356  0.495684  0.418272  0.851006  0.386853   \n",
       "...         ...       ...       ...       ...       ...       ...       ...   \n",
       "19995  0.948650  0.485057  0.397131  0.450677  0.532419  0.207320  0.108824   \n",
       "19996  0.442647  0.067846  0.403646  0.202704  0.085193  0.183511  0.586784   \n",
       "19997  0.214319  0.774101  0.717450  0.338712  0.172461  0.553859  0.654631   \n",
       "19998  0.372054  0.699841  0.360458  0.461629  0.774082  0.984725  0.289132   \n",
       "19999  0.982108  0.333556  0.287180  0.947295  0.469515  0.080739  0.307357   \n",
       "\n",
       "             7         8         9    10  \n",
       "0      0.633460  0.283253  0.365369  1.0  \n",
       "1      0.026095  0.446087  0.239105  0.0  \n",
       "2      0.181444  0.303406  0.174454  0.0  \n",
       "3      0.517752  0.570683  0.546333  1.0  \n",
       "4      0.606895  0.217841  0.912944  1.0  \n",
       "...         ...       ...       ...  ...  \n",
       "19995  0.875667  0.750174  0.091698  1.0  \n",
       "19996  0.777532  0.978976  0.012463  0.0  \n",
       "19997  0.804498  0.716806  0.714264  1.0  \n",
       "19998  0.360727  0.116030  0.757635  0.0  \n",
       "19999  0.093692  0.522380  0.376704  1.0  \n",
       "\n",
       "[20000 rows x 11 columns]"
      ]
     },
     "execution_count": 2,
     "metadata": {},
     "output_type": "execute_result"
    }
   ],
   "source": [
    "hyperplane_dataset_1_a = HyperplaneGenerator(random_state=888, n_features=10, n_drift_features=2 ,noise_percentage=0.10)\n",
    "hyperplane_dataset_1_a.prepare_for_use()\n",
    "x_1_a, y_1_a = hyperplane_dataset_1_a.next_sample(20000)\n",
    "data_1_a = pd.DataFrame(np.hstack((x_1_a, np.array([y_1_a]).T)))\n",
    "data_1_a"
   ]
  },
  {
   "cell_type": "code",
   "execution_count": 3,
   "id": "663333cf-2397-4642-818d-6294f21e7431",
   "metadata": {},
   "outputs": [],
   "source": [
    "# Write the dataset into a file called Hyperplane Dataset 10_2\n",
    "data_1_a.to_csv(\"Hyperplane Dataset 10_2.csv\", header=[\"f1\", \"f2\", \"f3\", \"f4\", \"f5\", \"f6\", \"f7\", \"f8\", \"f9\", \"f10\", \"y\"], index=False)"
   ]
  },
  {
   "cell_type": "markdown",
   "id": "8e1b5e0c-797f-4fb9-9770-b8ad25cd4084",
   "metadata": {},
   "source": [
    "### 1.b. Hyperplane Dataset (noise= 30%, number of drifting features 2)"
   ]
  },
  {
   "cell_type": "code",
   "execution_count": 4,
   "id": "dfa10418-3371-43b8-b9b2-378e6cc6bf71",
   "metadata": {},
   "outputs": [
    {
     "data": {
      "text/html": [
       "<div>\n",
       "<style scoped>\n",
       "    .dataframe tbody tr th:only-of-type {\n",
       "        vertical-align: middle;\n",
       "    }\n",
       "\n",
       "    .dataframe tbody tr th {\n",
       "        vertical-align: top;\n",
       "    }\n",
       "\n",
       "    .dataframe thead th {\n",
       "        text-align: right;\n",
       "    }\n",
       "</style>\n",
       "<table border=\"1\" class=\"dataframe\">\n",
       "  <thead>\n",
       "    <tr style=\"text-align: right;\">\n",
       "      <th></th>\n",
       "      <th>0</th>\n",
       "      <th>1</th>\n",
       "      <th>2</th>\n",
       "      <th>3</th>\n",
       "      <th>4</th>\n",
       "      <th>5</th>\n",
       "      <th>6</th>\n",
       "      <th>7</th>\n",
       "      <th>8</th>\n",
       "      <th>9</th>\n",
       "      <th>10</th>\n",
       "    </tr>\n",
       "  </thead>\n",
       "  <tbody>\n",
       "    <tr>\n",
       "      <th>0</th>\n",
       "      <td>0.743927</td>\n",
       "      <td>0.053853</td>\n",
       "      <td>0.602074</td>\n",
       "      <td>0.429319</td>\n",
       "      <td>0.205474</td>\n",
       "      <td>0.548648</td>\n",
       "      <td>0.384761</td>\n",
       "      <td>0.457886</td>\n",
       "      <td>0.281633</td>\n",
       "      <td>0.585246</td>\n",
       "      <td>0.0</td>\n",
       "    </tr>\n",
       "    <tr>\n",
       "      <th>1</th>\n",
       "      <td>0.239392</td>\n",
       "      <td>0.828081</td>\n",
       "      <td>0.956683</td>\n",
       "      <td>0.909764</td>\n",
       "      <td>0.775712</td>\n",
       "      <td>0.464015</td>\n",
       "      <td>0.373378</td>\n",
       "      <td>0.951901</td>\n",
       "      <td>0.895879</td>\n",
       "      <td>0.476401</td>\n",
       "      <td>1.0</td>\n",
       "    </tr>\n",
       "    <tr>\n",
       "      <th>2</th>\n",
       "      <td>0.659155</td>\n",
       "      <td>0.191030</td>\n",
       "      <td>0.695099</td>\n",
       "      <td>0.311044</td>\n",
       "      <td>0.421201</td>\n",
       "      <td>0.512675</td>\n",
       "      <td>0.175402</td>\n",
       "      <td>0.995717</td>\n",
       "      <td>0.164794</td>\n",
       "      <td>0.299306</td>\n",
       "      <td>1.0</td>\n",
       "    </tr>\n",
       "    <tr>\n",
       "      <th>3</th>\n",
       "      <td>0.598967</td>\n",
       "      <td>0.477178</td>\n",
       "      <td>0.000518</td>\n",
       "      <td>0.246747</td>\n",
       "      <td>0.519908</td>\n",
       "      <td>0.593825</td>\n",
       "      <td>0.711397</td>\n",
       "      <td>0.925769</td>\n",
       "      <td>0.700992</td>\n",
       "      <td>0.792368</td>\n",
       "      <td>1.0</td>\n",
       "    </tr>\n",
       "    <tr>\n",
       "      <th>4</th>\n",
       "      <td>0.808011</td>\n",
       "      <td>0.165505</td>\n",
       "      <td>0.256827</td>\n",
       "      <td>0.675300</td>\n",
       "      <td>0.874263</td>\n",
       "      <td>0.594933</td>\n",
       "      <td>0.946057</td>\n",
       "      <td>0.300904</td>\n",
       "      <td>0.806030</td>\n",
       "      <td>0.130000</td>\n",
       "      <td>1.0</td>\n",
       "    </tr>\n",
       "    <tr>\n",
       "      <th>...</th>\n",
       "      <td>...</td>\n",
       "      <td>...</td>\n",
       "      <td>...</td>\n",
       "      <td>...</td>\n",
       "      <td>...</td>\n",
       "      <td>...</td>\n",
       "      <td>...</td>\n",
       "      <td>...</td>\n",
       "      <td>...</td>\n",
       "      <td>...</td>\n",
       "      <td>...</td>\n",
       "    </tr>\n",
       "    <tr>\n",
       "      <th>19995</th>\n",
       "      <td>0.243542</td>\n",
       "      <td>0.845060</td>\n",
       "      <td>0.906268</td>\n",
       "      <td>0.370992</td>\n",
       "      <td>0.442643</td>\n",
       "      <td>0.210304</td>\n",
       "      <td>0.436489</td>\n",
       "      <td>0.723493</td>\n",
       "      <td>0.536403</td>\n",
       "      <td>0.101306</td>\n",
       "      <td>0.0</td>\n",
       "    </tr>\n",
       "    <tr>\n",
       "      <th>19996</th>\n",
       "      <td>0.468871</td>\n",
       "      <td>0.654791</td>\n",
       "      <td>0.016860</td>\n",
       "      <td>0.584375</td>\n",
       "      <td>0.113910</td>\n",
       "      <td>0.803694</td>\n",
       "      <td>0.122719</td>\n",
       "      <td>0.189614</td>\n",
       "      <td>0.125332</td>\n",
       "      <td>0.344963</td>\n",
       "      <td>0.0</td>\n",
       "    </tr>\n",
       "    <tr>\n",
       "      <th>19997</th>\n",
       "      <td>0.603137</td>\n",
       "      <td>0.606514</td>\n",
       "      <td>0.423596</td>\n",
       "      <td>0.405022</td>\n",
       "      <td>0.658217</td>\n",
       "      <td>0.079708</td>\n",
       "      <td>0.690362</td>\n",
       "      <td>0.172014</td>\n",
       "      <td>0.356757</td>\n",
       "      <td>0.017971</td>\n",
       "      <td>1.0</td>\n",
       "    </tr>\n",
       "    <tr>\n",
       "      <th>19998</th>\n",
       "      <td>0.017391</td>\n",
       "      <td>0.751746</td>\n",
       "      <td>0.239900</td>\n",
       "      <td>0.958502</td>\n",
       "      <td>0.676682</td>\n",
       "      <td>0.464312</td>\n",
       "      <td>0.042739</td>\n",
       "      <td>0.515920</td>\n",
       "      <td>0.994936</td>\n",
       "      <td>0.775286</td>\n",
       "      <td>0.0</td>\n",
       "    </tr>\n",
       "    <tr>\n",
       "      <th>19999</th>\n",
       "      <td>0.673128</td>\n",
       "      <td>0.135601</td>\n",
       "      <td>0.855130</td>\n",
       "      <td>0.033664</td>\n",
       "      <td>0.543360</td>\n",
       "      <td>0.403924</td>\n",
       "      <td>0.576245</td>\n",
       "      <td>0.145145</td>\n",
       "      <td>0.473295</td>\n",
       "      <td>0.331441</td>\n",
       "      <td>0.0</td>\n",
       "    </tr>\n",
       "  </tbody>\n",
       "</table>\n",
       "<p>20000 rows × 11 columns</p>\n",
       "</div>"
      ],
      "text/plain": [
       "             0         1         2         3         4         5         6   \\\n",
       "0      0.743927  0.053853  0.602074  0.429319  0.205474  0.548648  0.384761   \n",
       "1      0.239392  0.828081  0.956683  0.909764  0.775712  0.464015  0.373378   \n",
       "2      0.659155  0.191030  0.695099  0.311044  0.421201  0.512675  0.175402   \n",
       "3      0.598967  0.477178  0.000518  0.246747  0.519908  0.593825  0.711397   \n",
       "4      0.808011  0.165505  0.256827  0.675300  0.874263  0.594933  0.946057   \n",
       "...         ...       ...       ...       ...       ...       ...       ...   \n",
       "19995  0.243542  0.845060  0.906268  0.370992  0.442643  0.210304  0.436489   \n",
       "19996  0.468871  0.654791  0.016860  0.584375  0.113910  0.803694  0.122719   \n",
       "19997  0.603137  0.606514  0.423596  0.405022  0.658217  0.079708  0.690362   \n",
       "19998  0.017391  0.751746  0.239900  0.958502  0.676682  0.464312  0.042739   \n",
       "19999  0.673128  0.135601  0.855130  0.033664  0.543360  0.403924  0.576245   \n",
       "\n",
       "             7         8         9    10  \n",
       "0      0.457886  0.281633  0.585246  0.0  \n",
       "1      0.951901  0.895879  0.476401  1.0  \n",
       "2      0.995717  0.164794  0.299306  1.0  \n",
       "3      0.925769  0.700992  0.792368  1.0  \n",
       "4      0.300904  0.806030  0.130000  1.0  \n",
       "...         ...       ...       ...  ...  \n",
       "19995  0.723493  0.536403  0.101306  0.0  \n",
       "19996  0.189614  0.125332  0.344963  0.0  \n",
       "19997  0.172014  0.356757  0.017971  1.0  \n",
       "19998  0.515920  0.994936  0.775286  0.0  \n",
       "19999  0.145145  0.473295  0.331441  0.0  \n",
       "\n",
       "[20000 rows x 11 columns]"
      ]
     },
     "execution_count": 4,
     "metadata": {},
     "output_type": "execute_result"
    }
   ],
   "source": [
    "hyperplane_dataset_1_b = HyperplaneGenerator(random_state=887, n_features=10, n_drift_features=2, noise_percentage=0.30)\n",
    "hyperplane_dataset_1_b.prepare_for_use()\n",
    "x_1_b, y_1_b = hyperplane_dataset_1_b.next_sample(20000)\n",
    "data_1_b = pd.DataFrame(np.hstack((x_1_b, np.array([y_1_b]).T)))\n",
    "data_1_b"
   ]
  },
  {
   "cell_type": "markdown",
   "id": "d8a339b5-03a8-4a9e-a91a-423ce129c360",
   "metadata": {
    "tags": []
   },
   "source": [
    "### 1.c. Hyperplane Dataset (noise= 10%, number of drifting features 5)"
   ]
  },
  {
   "cell_type": "code",
   "execution_count": 5,
   "id": "67934219-85a4-476b-b9bf-ebdf7b675951",
   "metadata": {},
   "outputs": [
    {
     "data": {
      "text/html": [
       "<div>\n",
       "<style scoped>\n",
       "    .dataframe tbody tr th:only-of-type {\n",
       "        vertical-align: middle;\n",
       "    }\n",
       "\n",
       "    .dataframe tbody tr th {\n",
       "        vertical-align: top;\n",
       "    }\n",
       "\n",
       "    .dataframe thead th {\n",
       "        text-align: right;\n",
       "    }\n",
       "</style>\n",
       "<table border=\"1\" class=\"dataframe\">\n",
       "  <thead>\n",
       "    <tr style=\"text-align: right;\">\n",
       "      <th></th>\n",
       "      <th>0</th>\n",
       "      <th>1</th>\n",
       "      <th>2</th>\n",
       "      <th>3</th>\n",
       "      <th>4</th>\n",
       "      <th>5</th>\n",
       "      <th>6</th>\n",
       "      <th>7</th>\n",
       "      <th>8</th>\n",
       "      <th>9</th>\n",
       "      <th>10</th>\n",
       "    </tr>\n",
       "  </thead>\n",
       "  <tbody>\n",
       "    <tr>\n",
       "      <th>0</th>\n",
       "      <td>0.848792</td>\n",
       "      <td>0.447411</td>\n",
       "      <td>0.813492</td>\n",
       "      <td>0.201134</td>\n",
       "      <td>0.788237</td>\n",
       "      <td>0.745566</td>\n",
       "      <td>0.444688</td>\n",
       "      <td>0.680866</td>\n",
       "      <td>0.137615</td>\n",
       "      <td>0.868325</td>\n",
       "      <td>1.0</td>\n",
       "    </tr>\n",
       "    <tr>\n",
       "      <th>1</th>\n",
       "      <td>0.819547</td>\n",
       "      <td>0.082162</td>\n",
       "      <td>0.649074</td>\n",
       "      <td>0.408441</td>\n",
       "      <td>0.444860</td>\n",
       "      <td>0.782632</td>\n",
       "      <td>0.305221</td>\n",
       "      <td>0.212106</td>\n",
       "      <td>0.656394</td>\n",
       "      <td>0.438973</td>\n",
       "      <td>0.0</td>\n",
       "    </tr>\n",
       "    <tr>\n",
       "      <th>2</th>\n",
       "      <td>0.187147</td>\n",
       "      <td>0.005213</td>\n",
       "      <td>0.135903</td>\n",
       "      <td>0.280797</td>\n",
       "      <td>0.083665</td>\n",
       "      <td>0.174512</td>\n",
       "      <td>0.489846</td>\n",
       "      <td>0.946122</td>\n",
       "      <td>0.019780</td>\n",
       "      <td>0.584287</td>\n",
       "      <td>1.0</td>\n",
       "    </tr>\n",
       "    <tr>\n",
       "      <th>3</th>\n",
       "      <td>0.823329</td>\n",
       "      <td>0.005809</td>\n",
       "      <td>0.224312</td>\n",
       "      <td>0.917193</td>\n",
       "      <td>0.788180</td>\n",
       "      <td>0.090277</td>\n",
       "      <td>0.205849</td>\n",
       "      <td>0.457704</td>\n",
       "      <td>0.816957</td>\n",
       "      <td>0.336621</td>\n",
       "      <td>0.0</td>\n",
       "    </tr>\n",
       "    <tr>\n",
       "      <th>4</th>\n",
       "      <td>0.867101</td>\n",
       "      <td>0.627878</td>\n",
       "      <td>0.714713</td>\n",
       "      <td>0.041098</td>\n",
       "      <td>0.257739</td>\n",
       "      <td>0.432509</td>\n",
       "      <td>0.654784</td>\n",
       "      <td>0.259098</td>\n",
       "      <td>0.087866</td>\n",
       "      <td>0.724138</td>\n",
       "      <td>0.0</td>\n",
       "    </tr>\n",
       "    <tr>\n",
       "      <th>...</th>\n",
       "      <td>...</td>\n",
       "      <td>...</td>\n",
       "      <td>...</td>\n",
       "      <td>...</td>\n",
       "      <td>...</td>\n",
       "      <td>...</td>\n",
       "      <td>...</td>\n",
       "      <td>...</td>\n",
       "      <td>...</td>\n",
       "      <td>...</td>\n",
       "      <td>...</td>\n",
       "    </tr>\n",
       "    <tr>\n",
       "      <th>19995</th>\n",
       "      <td>0.250384</td>\n",
       "      <td>0.645341</td>\n",
       "      <td>0.961901</td>\n",
       "      <td>0.793571</td>\n",
       "      <td>0.283793</td>\n",
       "      <td>0.823874</td>\n",
       "      <td>0.699558</td>\n",
       "      <td>0.861503</td>\n",
       "      <td>0.993210</td>\n",
       "      <td>0.701025</td>\n",
       "      <td>1.0</td>\n",
       "    </tr>\n",
       "    <tr>\n",
       "      <th>19996</th>\n",
       "      <td>0.769374</td>\n",
       "      <td>0.692736</td>\n",
       "      <td>0.544272</td>\n",
       "      <td>0.025412</td>\n",
       "      <td>0.552646</td>\n",
       "      <td>0.149542</td>\n",
       "      <td>0.493279</td>\n",
       "      <td>0.927607</td>\n",
       "      <td>0.073232</td>\n",
       "      <td>0.627548</td>\n",
       "      <td>0.0</td>\n",
       "    </tr>\n",
       "    <tr>\n",
       "      <th>19997</th>\n",
       "      <td>0.214810</td>\n",
       "      <td>0.572602</td>\n",
       "      <td>0.395636</td>\n",
       "      <td>0.607904</td>\n",
       "      <td>0.136162</td>\n",
       "      <td>0.819241</td>\n",
       "      <td>0.486460</td>\n",
       "      <td>0.206172</td>\n",
       "      <td>0.694557</td>\n",
       "      <td>0.265713</td>\n",
       "      <td>0.0</td>\n",
       "    </tr>\n",
       "    <tr>\n",
       "      <th>19998</th>\n",
       "      <td>0.093793</td>\n",
       "      <td>0.472491</td>\n",
       "      <td>0.923123</td>\n",
       "      <td>0.230273</td>\n",
       "      <td>0.038932</td>\n",
       "      <td>0.057095</td>\n",
       "      <td>0.453836</td>\n",
       "      <td>0.997957</td>\n",
       "      <td>0.149361</td>\n",
       "      <td>0.555966</td>\n",
       "      <td>0.0</td>\n",
       "    </tr>\n",
       "    <tr>\n",
       "      <th>19999</th>\n",
       "      <td>0.458532</td>\n",
       "      <td>0.200462</td>\n",
       "      <td>0.155869</td>\n",
       "      <td>0.028611</td>\n",
       "      <td>0.767026</td>\n",
       "      <td>0.628269</td>\n",
       "      <td>0.559190</td>\n",
       "      <td>0.321843</td>\n",
       "      <td>0.965558</td>\n",
       "      <td>0.121601</td>\n",
       "      <td>0.0</td>\n",
       "    </tr>\n",
       "  </tbody>\n",
       "</table>\n",
       "<p>20000 rows × 11 columns</p>\n",
       "</div>"
      ],
      "text/plain": [
       "             0         1         2         3         4         5         6   \\\n",
       "0      0.848792  0.447411  0.813492  0.201134  0.788237  0.745566  0.444688   \n",
       "1      0.819547  0.082162  0.649074  0.408441  0.444860  0.782632  0.305221   \n",
       "2      0.187147  0.005213  0.135903  0.280797  0.083665  0.174512  0.489846   \n",
       "3      0.823329  0.005809  0.224312  0.917193  0.788180  0.090277  0.205849   \n",
       "4      0.867101  0.627878  0.714713  0.041098  0.257739  0.432509  0.654784   \n",
       "...         ...       ...       ...       ...       ...       ...       ...   \n",
       "19995  0.250384  0.645341  0.961901  0.793571  0.283793  0.823874  0.699558   \n",
       "19996  0.769374  0.692736  0.544272  0.025412  0.552646  0.149542  0.493279   \n",
       "19997  0.214810  0.572602  0.395636  0.607904  0.136162  0.819241  0.486460   \n",
       "19998  0.093793  0.472491  0.923123  0.230273  0.038932  0.057095  0.453836   \n",
       "19999  0.458532  0.200462  0.155869  0.028611  0.767026  0.628269  0.559190   \n",
       "\n",
       "             7         8         9    10  \n",
       "0      0.680866  0.137615  0.868325  1.0  \n",
       "1      0.212106  0.656394  0.438973  0.0  \n",
       "2      0.946122  0.019780  0.584287  1.0  \n",
       "3      0.457704  0.816957  0.336621  0.0  \n",
       "4      0.259098  0.087866  0.724138  0.0  \n",
       "...         ...       ...       ...  ...  \n",
       "19995  0.861503  0.993210  0.701025  1.0  \n",
       "19996  0.927607  0.073232  0.627548  0.0  \n",
       "19997  0.206172  0.694557  0.265713  0.0  \n",
       "19998  0.997957  0.149361  0.555966  0.0  \n",
       "19999  0.321843  0.965558  0.121601  0.0  \n",
       "\n",
       "[20000 rows x 11 columns]"
      ]
     },
     "execution_count": 5,
     "metadata": {},
     "output_type": "execute_result"
    }
   ],
   "source": [
    "hyperplane_dataset_1_c = HyperplaneGenerator(random_state=886, n_features=10, n_drift_features=5, noise_percentage=0.1)\n",
    "hyperplane_dataset_1_c.prepare_for_use()\n",
    "x_1_c, y_1_c = hyperplane_dataset_1_c.next_sample(20000)\n",
    "data_1_c = pd.DataFrame(np.hstack((x_1_c, np.array([y_1_c]).T)))\n",
    "data_1_c"
   ]
  },
  {
   "cell_type": "markdown",
   "id": "1fd9395f-059a-4060-983b-114231b0188d",
   "metadata": {},
   "source": [
    "### 1.d. Hyperplane Dataset (noise= 30%, number of drifting features 5)"
   ]
  },
  {
   "cell_type": "code",
   "execution_count": 6,
   "id": "784d870b-3821-41ee-9597-b09412eac5de",
   "metadata": {},
   "outputs": [
    {
     "data": {
      "text/html": [
       "<div>\n",
       "<style scoped>\n",
       "    .dataframe tbody tr th:only-of-type {\n",
       "        vertical-align: middle;\n",
       "    }\n",
       "\n",
       "    .dataframe tbody tr th {\n",
       "        vertical-align: top;\n",
       "    }\n",
       "\n",
       "    .dataframe thead th {\n",
       "        text-align: right;\n",
       "    }\n",
       "</style>\n",
       "<table border=\"1\" class=\"dataframe\">\n",
       "  <thead>\n",
       "    <tr style=\"text-align: right;\">\n",
       "      <th></th>\n",
       "      <th>0</th>\n",
       "      <th>1</th>\n",
       "      <th>2</th>\n",
       "      <th>3</th>\n",
       "      <th>4</th>\n",
       "      <th>5</th>\n",
       "      <th>6</th>\n",
       "      <th>7</th>\n",
       "      <th>8</th>\n",
       "      <th>9</th>\n",
       "      <th>10</th>\n",
       "    </tr>\n",
       "  </thead>\n",
       "  <tbody>\n",
       "    <tr>\n",
       "      <th>0</th>\n",
       "      <td>0.848792</td>\n",
       "      <td>0.447411</td>\n",
       "      <td>0.813492</td>\n",
       "      <td>0.201134</td>\n",
       "      <td>0.788237</td>\n",
       "      <td>0.745566</td>\n",
       "      <td>0.444688</td>\n",
       "      <td>0.680866</td>\n",
       "      <td>0.137615</td>\n",
       "      <td>0.868325</td>\n",
       "      <td>1.0</td>\n",
       "    </tr>\n",
       "    <tr>\n",
       "      <th>1</th>\n",
       "      <td>0.819547</td>\n",
       "      <td>0.082162</td>\n",
       "      <td>0.649074</td>\n",
       "      <td>0.408441</td>\n",
       "      <td>0.444860</td>\n",
       "      <td>0.782632</td>\n",
       "      <td>0.305221</td>\n",
       "      <td>0.212106</td>\n",
       "      <td>0.656394</td>\n",
       "      <td>0.438973</td>\n",
       "      <td>0.0</td>\n",
       "    </tr>\n",
       "    <tr>\n",
       "      <th>2</th>\n",
       "      <td>0.187147</td>\n",
       "      <td>0.005213</td>\n",
       "      <td>0.135903</td>\n",
       "      <td>0.280797</td>\n",
       "      <td>0.083665</td>\n",
       "      <td>0.174512</td>\n",
       "      <td>0.489846</td>\n",
       "      <td>0.946122</td>\n",
       "      <td>0.019780</td>\n",
       "      <td>0.584287</td>\n",
       "      <td>1.0</td>\n",
       "    </tr>\n",
       "    <tr>\n",
       "      <th>3</th>\n",
       "      <td>0.823329</td>\n",
       "      <td>0.005809</td>\n",
       "      <td>0.224312</td>\n",
       "      <td>0.917193</td>\n",
       "      <td>0.788180</td>\n",
       "      <td>0.090277</td>\n",
       "      <td>0.205849</td>\n",
       "      <td>0.457704</td>\n",
       "      <td>0.816957</td>\n",
       "      <td>0.336621</td>\n",
       "      <td>0.0</td>\n",
       "    </tr>\n",
       "    <tr>\n",
       "      <th>4</th>\n",
       "      <td>0.867101</td>\n",
       "      <td>0.627878</td>\n",
       "      <td>0.714713</td>\n",
       "      <td>0.041098</td>\n",
       "      <td>0.257739</td>\n",
       "      <td>0.432509</td>\n",
       "      <td>0.654784</td>\n",
       "      <td>0.259098</td>\n",
       "      <td>0.087866</td>\n",
       "      <td>0.724138</td>\n",
       "      <td>1.0</td>\n",
       "    </tr>\n",
       "    <tr>\n",
       "      <th>...</th>\n",
       "      <td>...</td>\n",
       "      <td>...</td>\n",
       "      <td>...</td>\n",
       "      <td>...</td>\n",
       "      <td>...</td>\n",
       "      <td>...</td>\n",
       "      <td>...</td>\n",
       "      <td>...</td>\n",
       "      <td>...</td>\n",
       "      <td>...</td>\n",
       "      <td>...</td>\n",
       "    </tr>\n",
       "    <tr>\n",
       "      <th>19995</th>\n",
       "      <td>0.250384</td>\n",
       "      <td>0.645341</td>\n",
       "      <td>0.961901</td>\n",
       "      <td>0.793571</td>\n",
       "      <td>0.283793</td>\n",
       "      <td>0.823874</td>\n",
       "      <td>0.699558</td>\n",
       "      <td>0.861503</td>\n",
       "      <td>0.993210</td>\n",
       "      <td>0.701025</td>\n",
       "      <td>1.0</td>\n",
       "    </tr>\n",
       "    <tr>\n",
       "      <th>19996</th>\n",
       "      <td>0.769374</td>\n",
       "      <td>0.692736</td>\n",
       "      <td>0.544272</td>\n",
       "      <td>0.025412</td>\n",
       "      <td>0.552646</td>\n",
       "      <td>0.149542</td>\n",
       "      <td>0.493279</td>\n",
       "      <td>0.927607</td>\n",
       "      <td>0.073232</td>\n",
       "      <td>0.627548</td>\n",
       "      <td>0.0</td>\n",
       "    </tr>\n",
       "    <tr>\n",
       "      <th>19997</th>\n",
       "      <td>0.214810</td>\n",
       "      <td>0.572602</td>\n",
       "      <td>0.395636</td>\n",
       "      <td>0.607904</td>\n",
       "      <td>0.136162</td>\n",
       "      <td>0.819241</td>\n",
       "      <td>0.486460</td>\n",
       "      <td>0.206172</td>\n",
       "      <td>0.694557</td>\n",
       "      <td>0.265713</td>\n",
       "      <td>1.0</td>\n",
       "    </tr>\n",
       "    <tr>\n",
       "      <th>19998</th>\n",
       "      <td>0.093793</td>\n",
       "      <td>0.472491</td>\n",
       "      <td>0.923123</td>\n",
       "      <td>0.230273</td>\n",
       "      <td>0.038932</td>\n",
       "      <td>0.057095</td>\n",
       "      <td>0.453836</td>\n",
       "      <td>0.997957</td>\n",
       "      <td>0.149361</td>\n",
       "      <td>0.555966</td>\n",
       "      <td>0.0</td>\n",
       "    </tr>\n",
       "    <tr>\n",
       "      <th>19999</th>\n",
       "      <td>0.458532</td>\n",
       "      <td>0.200462</td>\n",
       "      <td>0.155869</td>\n",
       "      <td>0.028611</td>\n",
       "      <td>0.767026</td>\n",
       "      <td>0.628269</td>\n",
       "      <td>0.559190</td>\n",
       "      <td>0.321843</td>\n",
       "      <td>0.965558</td>\n",
       "      <td>0.121601</td>\n",
       "      <td>1.0</td>\n",
       "    </tr>\n",
       "  </tbody>\n",
       "</table>\n",
       "<p>20000 rows × 11 columns</p>\n",
       "</div>"
      ],
      "text/plain": [
       "             0         1         2         3         4         5         6   \\\n",
       "0      0.848792  0.447411  0.813492  0.201134  0.788237  0.745566  0.444688   \n",
       "1      0.819547  0.082162  0.649074  0.408441  0.444860  0.782632  0.305221   \n",
       "2      0.187147  0.005213  0.135903  0.280797  0.083665  0.174512  0.489846   \n",
       "3      0.823329  0.005809  0.224312  0.917193  0.788180  0.090277  0.205849   \n",
       "4      0.867101  0.627878  0.714713  0.041098  0.257739  0.432509  0.654784   \n",
       "...         ...       ...       ...       ...       ...       ...       ...   \n",
       "19995  0.250384  0.645341  0.961901  0.793571  0.283793  0.823874  0.699558   \n",
       "19996  0.769374  0.692736  0.544272  0.025412  0.552646  0.149542  0.493279   \n",
       "19997  0.214810  0.572602  0.395636  0.607904  0.136162  0.819241  0.486460   \n",
       "19998  0.093793  0.472491  0.923123  0.230273  0.038932  0.057095  0.453836   \n",
       "19999  0.458532  0.200462  0.155869  0.028611  0.767026  0.628269  0.559190   \n",
       "\n",
       "             7         8         9    10  \n",
       "0      0.680866  0.137615  0.868325  1.0  \n",
       "1      0.212106  0.656394  0.438973  0.0  \n",
       "2      0.946122  0.019780  0.584287  1.0  \n",
       "3      0.457704  0.816957  0.336621  0.0  \n",
       "4      0.259098  0.087866  0.724138  1.0  \n",
       "...         ...       ...       ...  ...  \n",
       "19995  0.861503  0.993210  0.701025  1.0  \n",
       "19996  0.927607  0.073232  0.627548  0.0  \n",
       "19997  0.206172  0.694557  0.265713  1.0  \n",
       "19998  0.997957  0.149361  0.555966  0.0  \n",
       "19999  0.321843  0.965558  0.121601  1.0  \n",
       "\n",
       "[20000 rows x 11 columns]"
      ]
     },
     "execution_count": 6,
     "metadata": {},
     "output_type": "execute_result"
    }
   ],
   "source": [
    "hyperplane_dataset_1_d = HyperplaneGenerator(random_state=886, n_features=10, n_drift_features=5, noise_percentage=0.30)\n",
    "hyperplane_dataset_1_d.prepare_for_use()\n",
    "x_1_d, y_1_d = hyperplane_dataset_1_d.next_sample(20000)\n",
    "data_1_d = pd.DataFrame(np.hstack((x_1_d, np.array([y_1_d]).T)))\n",
    "data_1_d"
   ]
  },
  {
   "cell_type": "markdown",
   "id": "5a190811-ee7b-447e-a1d0-99e6f3eb2ba8",
   "metadata": {},
   "source": [
    "## 2. Data Stream Classification with Three Separate Online Single Classifiers: HT, KNN, MLP"
   ]
  },
  {
   "cell_type": "code",
   "execution_count": 8,
   "id": "8c86c3be-4e6e-4edc-a8a9-488f3fe79400",
   "metadata": {},
   "outputs": [],
   "source": [
    "hyper_plane_datasets = [hyperplane_dataset_1_a, hyperplane_dataset_1_b, hyperplane_dataset_1_c, hyperplane_dataset_1_d]"
   ]
  },
  {
   "cell_type": "markdown",
   "id": "4d3169d3-74da-42e9-a7a2-a0bdf30fd9d6",
   "metadata": {
    "tags": []
   },
   "source": [
    "### 2.a. HoeffdingTree as HT online learner"
   ]
  },
  {
   "cell_type": "code",
   "execution_count": 9,
   "id": "ed79e977-4fb2-4068-bba7-8f7d374bfcbb",
   "metadata": {},
   "outputs": [
    {
     "name": "stdout",
     "output_type": "stream",
     "text": [
      "1000 samples for analysis.\n",
      "When max sample size = 1000, accuracy of hyperplane dataset number 0 : 0.842\n",
      "5000 samples for analysis.\n",
      "When max sample size = 5000, accuracy of hyperplane dataset number 0 : 0.8514\n",
      "10000 samples for analysis.\n",
      "When max sample size = 10000, accuracy of hyperplane dataset number 0 : 0.845\n",
      "20000 samples for analysis.\n",
      "When max sample size = 20000, accuracy of hyperplane dataset number 0 : 0.848\n",
      "\n",
      "1000 samples for analysis.\n",
      "When max sample size = 1000, accuracy of hyperplane dataset number 1 : 0.593\n",
      "5000 samples for analysis.\n",
      "When max sample size = 5000, accuracy of hyperplane dataset number 1 : 0.6156\n",
      "10000 samples for analysis.\n",
      "When max sample size = 10000, accuracy of hyperplane dataset number 1 : 0.6224\n",
      "20000 samples for analysis.\n",
      "When max sample size = 20000, accuracy of hyperplane dataset number 1 : 0.63185\n",
      "\n",
      "1000 samples for analysis.\n",
      "When max sample size = 1000, accuracy of hyperplane dataset number 2 : 0.714\n",
      "5000 samples for analysis.\n",
      "When max sample size = 5000, accuracy of hyperplane dataset number 2 : 0.746\n",
      "10000 samples for analysis.\n",
      "When max sample size = 10000, accuracy of hyperplane dataset number 2 : 0.7775\n",
      "20000 samples for analysis.\n",
      "When max sample size = 20000, accuracy of hyperplane dataset number 2 : 0.80075\n",
      "\n",
      "1000 samples for analysis.\n",
      "When max sample size = 1000, accuracy of hyperplane dataset number 3 : 0.679\n",
      "5000 samples for analysis.\n",
      "When max sample size = 5000, accuracy of hyperplane dataset number 3 : 0.6584\n",
      "10000 samples for analysis.\n",
      "When max sample size = 10000, accuracy of hyperplane dataset number 3 : 0.6546\n",
      "20000 samples for analysis.\n",
      "When max sample size = 20000, accuracy of hyperplane dataset number 3 : 0.65515\n",
      "\n"
     ]
    }
   ],
   "source": [
    "# Create the HoeffdingTree as HT online learner \n",
    "ht = HoeffdingTreeClassifier()\n",
    "\n",
    "max_samples_array = [1000, 5000, 10000, 20000]\n",
    "best_accuracies = []\n",
    "\n",
    "for i in range(4):\n",
    "    n_samples = 0\n",
    "    correct_cnt = 0\n",
    "\n",
    "    for max_samples in max_samples_array:\n",
    "        best_accuracy = 0\n",
    "        while n_samples < max_samples and hyper_plane_datasets[i].has_more_samples():\n",
    "            X, y = hyper_plane_datasets[i].next_sample()\n",
    "            y_pred = ht.predict(X)\n",
    "            if y[0] == y_pred[0]:\n",
    "                correct_cnt += 1\n",
    "            ht = ht.partial_fit(X, y)\n",
    "            n_samples += 1\n",
    "        \n",
    "        acc = correct_cnt / n_samples\n",
    "        \n",
    "        if acc > best_accuracy:\n",
    "            best_accuracy = acc\n",
    "\n",
    "        print('{} samples for analysis.'.format(n_samples))\n",
    "        print('When max sample size = {}, accuracy of hyperplane dataset number {} : {}'.format(max_samples, i, acc))\n",
    "    best_accuracies.append(best_accuracy)\n",
    "    print()"
   ]
  },
  {
   "cell_type": "markdown",
   "id": "10c6cdd0-9cff-403b-8a74-2efa761a8267",
   "metadata": {},
   "source": [
    "#### Try different batch sizes for HT"
   ]
  },
  {
   "cell_type": "code",
   "execution_count": 10,
   "id": "3d26523c-12b9-4454-9fa0-af67610593e8",
   "metadata": {},
   "outputs": [
    {
     "name": "stdout",
     "output_type": "stream",
     "text": [
      "Time it takes to train HT when batch_size is 3.8209917545318604, accuracy is 0.7772\n",
      "Time it takes to train HT when batch_size is 3.2900524139404297, accuracy is 0.83445\n",
      "Time it takes to train HT when batch_size is 3.262397050857544, accuracy is 0.8473\n"
     ]
    }
   ],
   "source": [
    "batch_sizes = [1, 100, 1000]\n",
    "time_for_batch = []\n",
    "\n",
    "# For every dataset\n",
    "batch_acc = []\n",
    "batch_time = []\n",
    "\n",
    "for batch_size in batch_sizes:\n",
    "    n_samples = 0\n",
    "    correct_cnt = 0\n",
    "    start_time = time.time()\n",
    "    while n_samples < 20000:\n",
    "        X, y = hyperplane_dataset_1_a.next_sample(batch_size)\n",
    "        y_pred = ht.predict(X)\n",
    "\n",
    "        for k in range(batch_size):\n",
    "            if y[k] == y_pred[k]:\n",
    "                correct_cnt += 1\n",
    "\n",
    "        ht = ht.partial_fit(X, y)\n",
    "        n_samples += batch_size\n",
    "\n",
    "    elapsed_time = (time.time() - start_time)\n",
    "    acc = correct_cnt / n_samples\n",
    "    batch_acc.append(acc)\n",
    "    batch_time.append(elapsed_time)\n",
    "    print(\"Time it takes to train HT when batch_size is {}, accuracy is {}\".format(elapsed_time, acc))\n",
    "    \n"
   ]
  },
  {
   "cell_type": "code",
   "execution_count": 11,
   "id": "0214fc18-c5b1-42f4-9750-7a243fb053ba",
   "metadata": {},
   "outputs": [
    {
     "data": {
      "image/png": "[encoded data removed]",
      "text/plain": [
       "<Figure size 432x288 with 1 Axes>"
      ]
     },
     "metadata": {
      "needs_background": "light"
     },
     "output_type": "display_data"
    },
    {
     "data": {
      "image/png": "[encoded data removed]",
      "text/plain": [
       "<Figure size 432x288 with 1 Axes>"
      ]
     },
     "metadata": {
      "needs_background": "light"
     },
     "output_type": "display_data"
    }
   ],
   "source": [
    "plt.figure(1)\n",
    "plt.plot([1, 100, 1000], batch_acc)\n",
    "plt.xlabel(\"Batch Size\")\n",
    "plt.ylabel(\"Accuracy\")\n",
    "plt.show()\n",
    "\n",
    "plt.figure(2)\n",
    "plt.plot([1, 100, 1000], batch_time)\n",
    "plt.xlabel(\"Batch Size\")\n",
    "plt.ylabel(\"Elapsed Time\")\n",
    "plt.show()"
   ]
  },
  {
   "cell_type": "code",
   "execution_count": 12,
   "id": "5e8d9989-8bd5-4c61-bc15-f7fe040e4d38",
   "metadata": {},
   "outputs": [
    {
     "name": "stdout",
     "output_type": "stream",
     "text": [
      "[0.848, 0.63185, 0.80075, 0.65515]\n"
     ]
    },
    {
     "data": {
      "text/plain": [
       "Text(0.5, 1.0, 'Best accuracies obtained by HT online learner')"
      ]
     },
     "execution_count": 12,
     "metadata": {},
     "output_type": "execute_result"
    },
    {
     "data": {
      "image/png": "[encoded data removed]",
      "text/plain": [
       "<Figure size 432x288 with 1 Axes>"
      ]
     },
     "metadata": {
      "needs_background": "light"
     },
     "output_type": "display_data"
    }
   ],
   "source": [
    "print(best_accuracies)\n",
    "\n",
    "x = [1, 2, 3, 4]\n",
    "\n",
    "plt.bar(x, best_accuracies)\n",
    "plt.xlabel(\"Datasets\")\n",
    "plt.ylabel(\"Best accuracy\")\n",
    "plt.title(\"Best accuracies obtained by HT online learner\")"
   ]
  },
  {
   "cell_type": "markdown",
   "id": "e45ff792-8e5e-4d74-93a6-fbbd2931d025",
   "metadata": {},
   "source": [
    "### 2.b. K nearest neighbour as KNN online learner,"
   ]
  },
  {
   "cell_type": "code",
   "execution_count": 13,
   "id": "5c49cc95-87f1-4058-baf4-65f1880b4fa3",
   "metadata": {},
   "outputs": [
    {
     "name": "stdout",
     "output_type": "stream",
     "text": [
      "Accuracy when max_window_size = 1000, number of neighbors = 5, in the hyperplane dataset number 0 is 0.7716\n",
      "Accuracy when max_window_size = 2000, number of neighbors = 5, in the hyperplane dataset number 0 is 0.7686\n",
      "Accuracy when max_window_size = 5000, number of neighbors = 5, in the hyperplane dataset number 0 is 0.7774\n",
      "Accuracy when max_window_size = 10000, number of neighbors = 5, in the hyperplane dataset number 0 is 0.7692\n",
      "\n",
      "Accuracy when max_window_size = 1000, number of neighbors = 7, in the hyperplane dataset number 0 is 0.782\n",
      "Accuracy when max_window_size = 2000, number of neighbors = 7, in the hyperplane dataset number 0 is 0.796\n",
      "Accuracy when max_window_size = 5000, number of neighbors = 7, in the hyperplane dataset number 0 is 0.7914\n",
      "Accuracy when max_window_size = 10000, number of neighbors = 7, in the hyperplane dataset number 0 is 0.7994\n",
      "\n",
      "Accuracy when max_window_size = 1000, number of neighbors = 10, in the hyperplane dataset number 0 is 0.7846\n",
      "Accuracy when max_window_size = 2000, number of neighbors = 10, in the hyperplane dataset number 0 is 0.795\n",
      "Accuracy when max_window_size = 5000, number of neighbors = 10, in the hyperplane dataset number 0 is 0.797\n",
      "Accuracy when max_window_size = 10000, number of neighbors = 10, in the hyperplane dataset number 0 is 0.807\n",
      "\n",
      "Accuracy when max_window_size = 1000, number of neighbors = 15, in the hyperplane dataset number 0 is 0.7952\n",
      "Accuracy when max_window_size = 2000, number of neighbors = 15, in the hyperplane dataset number 0 is 0.8118\n",
      "Accuracy when max_window_size = 5000, number of neighbors = 15, in the hyperplane dataset number 0 is 0.8212\n",
      "Accuracy when max_window_size = 10000, number of neighbors = 15, in the hyperplane dataset number 0 is 0.8134\n",
      "\n",
      "\n",
      "Accuracy when max_window_size = 1000, number of neighbors = 5, in the hyperplane dataset number 1 is 0.582\n",
      "Accuracy when max_window_size = 2000, number of neighbors = 5, in the hyperplane dataset number 1 is 0.5814\n",
      "Accuracy when max_window_size = 5000, number of neighbors = 5, in the hyperplane dataset number 1 is 0.6016\n",
      "Accuracy when max_window_size = 10000, number of neighbors = 5, in the hyperplane dataset number 1 is 0.5922\n",
      "\n",
      "Accuracy when max_window_size = 1000, number of neighbors = 7, in the hyperplane dataset number 1 is 0.5748\n",
      "Accuracy when max_window_size = 2000, number of neighbors = 7, in the hyperplane dataset number 1 is 0.5938\n",
      "Accuracy when max_window_size = 5000, number of neighbors = 7, in the hyperplane dataset number 1 is 0.5974\n",
      "Accuracy when max_window_size = 10000, number of neighbors = 7, in the hyperplane dataset number 1 is 0.6084\n",
      "\n",
      "Accuracy when max_window_size = 1000, number of neighbors = 10, in the hyperplane dataset number 1 is 0.5964\n",
      "Accuracy when max_window_size = 2000, number of neighbors = 10, in the hyperplane dataset number 1 is 0.6146\n",
      "Accuracy when max_window_size = 5000, number of neighbors = 10, in the hyperplane dataset number 1 is 0.6126\n",
      "Accuracy when max_window_size = 10000, number of neighbors = 10, in the hyperplane dataset number 1 is 0.6068\n",
      "\n",
      "Accuracy when max_window_size = 1000, number of neighbors = 15, in the hyperplane dataset number 1 is 0.6168\n",
      "Accuracy when max_window_size = 2000, number of neighbors = 15, in the hyperplane dataset number 1 is 0.6182\n",
      "Accuracy when max_window_size = 5000, number of neighbors = 15, in the hyperplane dataset number 1 is 0.6304\n",
      "Accuracy when max_window_size = 10000, number of neighbors = 15, in the hyperplane dataset number 1 is 0.6196\n",
      "\n",
      "\n",
      "Accuracy when max_window_size = 1000, number of neighbors = 5, in the hyperplane dataset number 2 is 0.765\n",
      "Accuracy when max_window_size = 2000, number of neighbors = 5, in the hyperplane dataset number 2 is 0.7844\n",
      "Accuracy when max_window_size = 5000, number of neighbors = 5, in the hyperplane dataset number 2 is 0.7868\n",
      "Accuracy when max_window_size = 10000, number of neighbors = 5, in the hyperplane dataset number 2 is 0.7762\n",
      "\n",
      "Accuracy when max_window_size = 1000, number of neighbors = 7, in the hyperplane dataset number 2 is 0.7718\n",
      "Accuracy when max_window_size = 2000, number of neighbors = 7, in the hyperplane dataset number 2 is 0.7896\n",
      "Accuracy when max_window_size = 5000, number of neighbors = 7, in the hyperplane dataset number 2 is 0.7956\n",
      "Accuracy when max_window_size = 10000, number of neighbors = 7, in the hyperplane dataset number 2 is 0.8004\n",
      "\n",
      "Accuracy when max_window_size = 1000, number of neighbors = 10, in the hyperplane dataset number 2 is 0.7972\n",
      "Accuracy when max_window_size = 2000, number of neighbors = 10, in the hyperplane dataset number 2 is 0.7944\n",
      "Accuracy when max_window_size = 5000, number of neighbors = 10, in the hyperplane dataset number 2 is 0.8072\n",
      "Accuracy when max_window_size = 10000, number of neighbors = 10, in the hyperplane dataset number 2 is 0.8014\n",
      "\n",
      "Accuracy when max_window_size = 1000, number of neighbors = 15, in the hyperplane dataset number 2 is 0.8116\n",
      "Accuracy when max_window_size = 2000, number of neighbors = 15, in the hyperplane dataset number 2 is 0.8088\n",
      "Accuracy when max_window_size = 5000, number of neighbors = 15, in the hyperplane dataset number 2 is 0.8354\n",
      "Accuracy when max_window_size = 10000, number of neighbors = 15, in the hyperplane dataset number 2 is 0.8204\n",
      "\n",
      "\n",
      "Accuracy when max_window_size = 1000, number of neighbors = 5, in the hyperplane dataset number 3 is 0.5834\n",
      "Accuracy when max_window_size = 2000, number of neighbors = 5, in the hyperplane dataset number 3 is 0.5912\n",
      "Accuracy when max_window_size = 5000, number of neighbors = 5, in the hyperplane dataset number 3 is 0.588\n",
      "Accuracy when max_window_size = 10000, number of neighbors = 5, in the hyperplane dataset number 3 is 0.5898\n",
      "\n",
      "Accuracy when max_window_size = 1000, number of neighbors = 7, in the hyperplane dataset number 3 is 0.579\n",
      "Accuracy when max_window_size = 2000, number of neighbors = 7, in the hyperplane dataset number 3 is 0.5766\n",
      "Accuracy when max_window_size = 5000, number of neighbors = 7, in the hyperplane dataset number 3 is 0.6152\n",
      "Accuracy when max_window_size = 10000, number of neighbors = 7, in the hyperplane dataset number 3 is 0.609\n",
      "\n",
      "Accuracy when max_window_size = 1000, number of neighbors = 10, in the hyperplane dataset number 3 is 0.6138\n",
      "Accuracy when max_window_size = 2000, number of neighbors = 10, in the hyperplane dataset number 3 is 0.6022\n",
      "Accuracy when max_window_size = 5000, number of neighbors = 10, in the hyperplane dataset number 3 is 0.5926\n",
      "Accuracy when max_window_size = 10000, number of neighbors = 10, in the hyperplane dataset number 3 is 0.5986\n",
      "\n",
      "Accuracy when max_window_size = 1000, number of neighbors = 15, in the hyperplane dataset number 3 is 0.6212\n",
      "Accuracy when max_window_size = 2000, number of neighbors = 15, in the hyperplane dataset number 3 is 0.6154\n",
      "Accuracy when max_window_size = 5000, number of neighbors = 15, in the hyperplane dataset number 3 is 0.6266\n",
      "Accuracy when max_window_size = 10000, number of neighbors = 15, in the hyperplane dataset number 3 is 0.6238\n",
      "\n",
      "\n"
     ]
    }
   ],
   "source": [
    "number_of_neighbors = [5, 7, 10, 15]\n",
    "max_windows_sizes = [1000, 2000, 5000, 10000]\n",
    "\n",
    "best_accuracies_knn = []\n",
    "\n",
    "for i, hyperplane_dataset in enumerate(hyper_plane_datasets):\n",
    "    best_accuracy_knn = 0\n",
    "    for n_neighbor in number_of_neighbors:\n",
    "        for max_window_size in max_windows_sizes:\n",
    "            knn = KNNClassifier(n_neighbors=n_neighbor, max_window_size=max_window_size, leaf_size=40)\n",
    "\n",
    "            n_samples = 0\n",
    "            corrects = 0\n",
    "            while n_samples < 5000 and hyperplane_dataset.has_more_samples:\n",
    "                X, y = hyperplane_dataset.next_sample()\n",
    "                my_pred = knn.predict(X)\n",
    "                if y[0] == my_pred[0]:\n",
    "                    corrects += 1\n",
    "                knn = knn.partial_fit(X, y)\n",
    "                n_samples += 1\n",
    "            \n",
    "            acc = corrects / n_samples\n",
    "            \n",
    "            if acc > best_accuracy_knn:\n",
    "                best_accuracy_knn = acc\n",
    "            \n",
    "            print(\"Accuracy when max_window_size = {}, number of neighbors = {}, in the hyperplane dataset number {} is {}\".format(max_window_size, n_neighbor, i, acc))\n",
    "        print()\n",
    "    print()\n",
    "    best_accuracies_knn.append(best_accuracy_knn)\n",
    "                "
   ]
  },
  {
   "cell_type": "code",
   "execution_count": 14,
   "id": "75939e45-e618-4fb3-a950-ac4928d4c384",
   "metadata": {},
   "outputs": [
    {
     "name": "stdout",
     "output_type": "stream",
     "text": [
      "[0.8212, 0.6304, 0.8354, 0.6266]\n"
     ]
    },
    {
     "data": {
      "image/png": "[encoded data removed]",
      "text/plain": [
       "<Figure size 432x288 with 1 Axes>"
      ]
     },
     "metadata": {
      "needs_background": "light"
     },
     "output_type": "display_data"
    }
   ],
   "source": [
    "print(best_accuracies_knn)\n",
    "\n",
    "plt.figure()\n",
    "plt.bar(x, best_accuracies_knn)\n",
    "plt.xlabel(\"Datasets\")\n",
    "plt.ylabel(\"Best accuracy\")\n",
    "plt.title(\"Best accuracies obtained by KNN online learner\")\n",
    "plt.show()\n",
    "\n"
   ]
  },
  {
   "cell_type": "markdown",
   "id": "86d9a4b2-ad5a-4be4-bed8-dd6853398aff",
   "metadata": {},
   "source": [
    "#### Try different batch sizes for KNN"
   ]
  },
  {
   "cell_type": "code",
   "execution_count": 15,
   "id": "a2d3ef4d-761d-43c3-904d-c91ee1e9cd05",
   "metadata": {},
   "outputs": [
    {
     "name": "stdout",
     "output_type": "stream",
     "text": [
      "Time it takes to train KNN when batch_size is 109.75455689430237, accuracy is 0.8333\n",
      "Time it takes to train KNN when batch_size is 3.631375312805176, accuracy is 0.8338\n",
      "Time it takes to train KNN when batch_size is 2.658583641052246, accuracy is 0.82865\n"
     ]
    }
   ],
   "source": [
    "batch_sizes = [1, 100, 1000]\n",
    "\n",
    "batch_acc = []\n",
    "batch_time = []\n",
    "\n",
    "knn = KNNClassifier(n_neighbors=15, max_window_size=5000, leaf_size=40)\n",
    "\n",
    "for batch_size in batch_sizes:\n",
    "    n_samples = 0\n",
    "    correct_cnt = 0\n",
    "    start_time = time.time()\n",
    "    while n_samples < 20000:\n",
    "        X, y = hyperplane_dataset_1_a.next_sample(batch_size)\n",
    "        y_pred = knn.predict(X)\n",
    "\n",
    "        for k in range(batch_size):\n",
    "            if y[k] == y_pred[k]:\n",
    "                correct_cnt += 1\n",
    "\n",
    "        knn = knn.partial_fit(X, y)\n",
    "        n_samples += batch_size\n",
    "\n",
    "    elapsed_time = (time.time() - start_time)\n",
    "    acc = correct_cnt / n_samples\n",
    "    batch_acc.append(acc)\n",
    "    batch_time.append(elapsed_time)\n",
    "    print(\"Time it takes to train KNN when batch_size is {}, accuracy is {}\".format(elapsed_time, acc))"
   ]
  },
  {
   "cell_type": "code",
   "execution_count": 16,
   "id": "d70451b2-f333-4016-9198-48c1c2362324",
   "metadata": {},
   "outputs": [
    {
     "data": {
      "image/png": "[encoded data removed]",
      "text/plain": [
       "<Figure size 432x288 with 1 Axes>"
      ]
     },
     "metadata": {
      "needs_background": "light"
     },
     "output_type": "display_data"
    },
    {
     "data": {
      "image/png": "[encoded data removed]",
      "text/plain": [
       "<Figure size 432x288 with 1 Axes>"
      ]
     },
     "metadata": {
      "needs_background": "light"
     },
     "output_type": "display_data"
    }
   ],
   "source": [
    "plt.figure(1)\n",
    "plt.plot([1, 100, 1000], batch_acc)\n",
    "plt.xlabel(\"Batch Size\")\n",
    "plt.ylabel(\"Accuracy\")\n",
    "plt.show()\n",
    "\n",
    "plt.figure(2)\n",
    "plt.plot([1, 100, 1000], batch_time)\n",
    "plt.xlabel(\"Batch Size\")\n",
    "plt.ylabel(\"Elapsed Time\")\n",
    "plt.show()"
   ]
  },
  {
   "cell_type": "markdown",
   "id": "1a8275f1-9246-4e7f-99e1-ce95f26778a2",
   "metadata": {},
   "source": [
    "### 2.c. Naïve Bayes as NB online learner"
   ]
  },
  {
   "cell_type": "code",
   "execution_count": 17,
   "id": "affe0fdb-cf1f-4eff-8c6a-8c5d413fc2b4",
   "metadata": {},
   "outputs": [
    {
     "name": "stdout",
     "output_type": "stream",
     "text": [
      "Naive Bayes accuracy when max_samples is 200 for the hyperplane dataset number 0 is 0.755\n",
      "Naive Bayes accuracy when max_samples is 500 for the hyperplane dataset number 0 is 0.768\n",
      "Naive Bayes accuracy when max_samples is 1000 for the hyperplane dataset number 0 is 0.843\n",
      "Naive Bayes accuracy when max_samples is 2000 for the hyperplane dataset number 0 is 0.832\n",
      "Naive Bayes accuracy when max_samples is 5000 for the hyperplane dataset number 0 is 0.867\n",
      "Naive Bayes accuracy when max_samples is 10000 for the hyperplane dataset number 0 is 0.8756\n",
      "\n",
      "Naive Bayes accuracy when max_samples is 200 for the hyperplane dataset number 1 is 0.58\n",
      "Naive Bayes accuracy when max_samples is 500 for the hyperplane dataset number 1 is 0.628\n",
      "Naive Bayes accuracy when max_samples is 1000 for the hyperplane dataset number 1 is 0.651\n",
      "Naive Bayes accuracy when max_samples is 2000 for the hyperplane dataset number 1 is 0.637\n",
      "Naive Bayes accuracy when max_samples is 5000 for the hyperplane dataset number 1 is 0.6662\n",
      "Naive Bayes accuracy when max_samples is 10000 for the hyperplane dataset number 1 is 0.684\n",
      "\n",
      "Naive Bayes accuracy when max_samples is 200 for the hyperplane dataset number 2 is 0.8\n",
      "Naive Bayes accuracy when max_samples is 500 for the hyperplane dataset number 2 is 0.798\n",
      "Naive Bayes accuracy when max_samples is 1000 for the hyperplane dataset number 2 is 0.836\n",
      "Naive Bayes accuracy when max_samples is 2000 for the hyperplane dataset number 2 is 0.847\n",
      "Naive Bayes accuracy when max_samples is 5000 for the hyperplane dataset number 2 is 0.87\n",
      "Naive Bayes accuracy when max_samples is 10000 for the hyperplane dataset number 2 is 0.8785\n",
      "\n",
      "Naive Bayes accuracy when max_samples is 200 for the hyperplane dataset number 3 is 0.625\n",
      "Naive Bayes accuracy when max_samples is 500 for the hyperplane dataset number 3 is 0.62\n",
      "Naive Bayes accuracy when max_samples is 1000 for the hyperplane dataset number 3 is 0.652\n",
      "Naive Bayes accuracy when max_samples is 2000 for the hyperplane dataset number 3 is 0.6575\n",
      "Naive Bayes accuracy when max_samples is 5000 for the hyperplane dataset number 3 is 0.6782\n",
      "Naive Bayes accuracy when max_samples is 10000 for the hyperplane dataset number 3 is 0.6837\n",
      "\n"
     ]
    }
   ],
   "source": [
    "max_samples = [200, 500, 1000, 2000, 5000, 10000]\n",
    "best_accuracies_nb = []\n",
    "\n",
    "for i, hyperplane_dataset in enumerate(hyper_plane_datasets):\n",
    "    best_accuracy_nb = 0\n",
    "    for max_sample in max_samples:\n",
    "        n_samples = 0\n",
    "        correct_cnt = 0\n",
    "        naive_bayes = NaiveBayes()\n",
    "        while n_samples < max_sample and hyperplane_dataset.has_more_samples():\n",
    "            X, y = hyperplane_dataset.next_sample()\n",
    "            y_pred = naive_bayes.predict(X)\n",
    "            if y[0] == y_pred[0]:\n",
    "                correct_cnt += 1\n",
    "            naive_bayes.partial_fit(X, y)\n",
    "            n_samples += 1\n",
    "        \n",
    "        acc = correct_cnt / n_samples\n",
    "        if acc > best_accuracy_nb:\n",
    "            best_accuracy_nb = acc\n",
    "        \n",
    "        print('Naive Bayes accuracy when max_samples is {} for the hyperplane dataset number {} is {}'.format(max_sample, i, acc))\n",
    "    \n",
    "    best_accuracies_nb.append(best_accuracy_nb)\n",
    "    print()"
   ]
  },
  {
   "cell_type": "code",
   "execution_count": 18,
   "id": "1c25eebd-7bc5-4012-80d1-e7f5043af23b",
   "metadata": {},
   "outputs": [
    {
     "name": "stdout",
     "output_type": "stream",
     "text": [
      "[0.8756, 0.684, 0.8785, 0.6837]\n"
     ]
    },
    {
     "data": {
      "image/png": "[encoded data removed]",
      "text/plain": [
       "<Figure size 432x288 with 1 Axes>"
      ]
     },
     "metadata": {
      "needs_background": "light"
     },
     "output_type": "display_data"
    }
   ],
   "source": [
    "plt.bar([1,2,3,4], best_accuracies_nb)\n",
    "plt.xlabel(\"Datasets\")\n",
    "plt.ylabel(\"Best accuracy\")\n",
    "plt.title(\"Best accuracies obtained by NB online learner\")\n",
    "\n",
    "print(best_accuracies_nb)"
   ]
  },
  {
   "cell_type": "code",
   "execution_count": 19,
   "id": "ef162c95-730f-4518-b299-20617bac22e4",
   "metadata": {},
   "outputs": [
    {
     "data": {
      "image/png": "[encoded data removed]",
      "text/plain": [
       "<Figure size 432x288 with 1 Axes>"
      ]
     },
     "metadata": {
      "needs_background": "light"
     },
     "output_type": "display_data"
    }
   ],
   "source": [
    "plt.plot(x, best_accuracies, 'r', label=\"HT\")\n",
    "plt.plot(x, best_accuracies_knn, 'g', label=\"KNN\")\n",
    "plt.plot(x, best_accuracies_nb, 'k', label=\"NB\")\n",
    "plt.xlabel(\"Datasets\")\n",
    "plt.ylabel(\"Accuracy\")\n",
    "plt.legend()\n",
    "plt.show()"
   ]
  },
  {
   "cell_type": "markdown",
   "id": "8e52fa81-9f94-4401-9922-92c9334cb19b",
   "metadata": {},
   "source": [
    "#### Try different batch sizes for NB"
   ]
  },
  {
   "cell_type": "code",
   "execution_count": 20,
   "id": "897920f1-3512-4db0-b2a3-fdff24aa1f65",
   "metadata": {},
   "outputs": [
    {
     "name": "stdout",
     "output_type": "stream",
     "text": [
      "Time it takes to train HT when batch_size is 2.1096837520599365, accuracy is 0.8799\n",
      "Time it takes to train HT when batch_size is 1.5480999946594238, accuracy is 0.88465\n",
      "Time it takes to train HT when batch_size is 1.5008995532989502, accuracy is 0.86955\n"
     ]
    }
   ],
   "source": [
    "batch_sizes = [1, 100, 1000]\n",
    "\n",
    "batch_acc = []\n",
    "batch_time = []\n",
    "\n",
    "for batch_size in batch_sizes:\n",
    "    n_samples = 0\n",
    "    correct_cnt = 0\n",
    "    start_time = time.time()\n",
    "    naive_bayes = NaiveBayes()\n",
    "    while n_samples < 20000:\n",
    "        X, y = hyperplane_dataset_1_a.next_sample(batch_size)\n",
    "        y_pred = naive_bayes.predict(X)\n",
    "\n",
    "        for k in range(batch_size):\n",
    "            if y[k] == y_pred[k]:\n",
    "                correct_cnt += 1\n",
    "\n",
    "        naive_bayes.partial_fit(X, y)\n",
    "        n_samples += batch_size\n",
    "\n",
    "    elapsed_time = (time.time() - start_time)\n",
    "    acc = correct_cnt / n_samples\n",
    "    batch_acc.append(acc)\n",
    "    batch_time.append(elapsed_time)\n",
    "    print(\"Time it takes to train HT when batch_size is {}, accuracy is {}\".format(elapsed_time, acc))"
   ]
  },
  {
   "cell_type": "code",
   "execution_count": 21,
   "id": "dc8755fe-f066-4304-92a5-95313f627cfd",
   "metadata": {},
   "outputs": [
    {
     "data": {
      "image/png": "[encoded data removed]",
      "text/plain": [
       "<Figure size 432x288 with 1 Axes>"
      ]
     },
     "metadata": {
      "needs_background": "light"
     },
     "output_type": "display_data"
    },
    {
     "data": {
      "image/png": "[encoded data removed]",
      "text/plain": [
       "<Figure size 432x288 with 1 Axes>"
      ]
     },
     "metadata": {
      "needs_background": "light"
     },
     "output_type": "display_data"
    }
   ],
   "source": [
    "plt.figure(1)\n",
    "plt.plot([1, 100, 1000], batch_acc)\n",
    "plt.xlabel(\"Batch Size\")\n",
    "plt.ylabel(\"Accuracy\")\n",
    "plt.show()\n",
    "\n",
    "plt.figure(2)\n",
    "plt.plot([1, 100, 1000], batch_time)\n",
    "plt.xlabel(\"Batch Size\")\n",
    "plt.ylabel(\"Elapsed Time\")\n",
    "plt.show()"
   ]
  },
  {
   "cell_type": "markdown",
   "id": "1ea1d1a7-bb8e-4c14-90b4-4aa09777ac11",
   "metadata": {},
   "source": [
    "## 3. Data Stream Classification with Two Online Ensemble Classifiers: MV, WMV"
   ]
  },
  {
   "cell_type": "markdown",
   "id": "262a1682-ebdf-4742-803a-530e7a34d34f",
   "metadata": {},
   "source": [
    "### 3.a. Majority voting rule MV,"
   ]
  },
  {
   "cell_type": "code",
   "execution_count": 46,
   "id": "e4882857-8b43-4553-b40e-5822635da7ac",
   "metadata": {},
   "outputs": [],
   "source": [
    "def MajorityVotingClassifier(data_x, data_y):\n",
    "    # First, initialize the classifiers\n",
    "    ht = HoeffdingTreeClassifier()\n",
    "    knn = KNNClassifier(n_neighbors=15, max_window_size=5000, leaf_size=40)\n",
    "    nb = NaiveBayes()\n",
    "\n",
    "    # Separate the dataset into train and test sets (ratio is 80:20)\n",
    "    train_x_1_a = data_x[:16000]\n",
    "    test_x_1_a = data_x[16000:]\n",
    "\n",
    "    train_y_1_a = data_y[:16000]\n",
    "    test_y_1_a = data_y[16000:]\n",
    "\n",
    "    # Second, fit the classifiers with the first dataset's training set\n",
    "    ht.fit(train_x_1_a, train_y_1_a)\n",
    "    knn.fit(train_x_1_a, train_y_1_a)\n",
    "    nb.fit(train_x_1_a, train_y_1_a)\n",
    "\n",
    "    # Make predictions by using the three classifiers\n",
    "    ht_prediction = ht.predict(test_x_1_a)\n",
    "    knn_prediction = knn.predict(test_x_1_a)\n",
    "    nb_prediction = nb.predict(test_x_1_a)\n",
    "    \n",
    "    majority_predictions = []\n",
    "\n",
    "    # Select the prediction with the highest frequency as the final prediction\n",
    "    for i in range(4000): # There are 4000 predictions\n",
    "        one_count = 0\n",
    "        zero_count = 0\n",
    "\n",
    "        if ht_prediction[i] == 0:\n",
    "            zero_count += 1\n",
    "        else:\n",
    "            one_count += 1\n",
    "\n",
    "        if knn_prediction[i] == 0:\n",
    "            zero_count += 1\n",
    "        else:\n",
    "            one_count += 1\n",
    "\n",
    "        if nb_prediction[i] == 0:\n",
    "            zero_count += 1\n",
    "        else:\n",
    "            one_count += 1\n",
    "\n",
    "        if zero_count > one_count:\n",
    "            majority_predictions.append(0)\n",
    "        else:\n",
    "            majority_predictions.append(1)    \n",
    "\n",
    "    majority_predictions = np.array(majority_predictions)\n",
    "    \n",
    "    # Calculate the accuracy\n",
    "    correct_count = 0\n",
    "    for i in range(4000):\n",
    "        if majority_predictions[i] == test_y_1_a[i]:\n",
    "            correct_count += 1\n",
    "    \n",
    "    return correct_count / 4000 * 100"
   ]
  },
  {
   "cell_type": "code",
   "execution_count": 54,
   "id": "0706f1ed-eb6d-437a-a5d6-047e09a76a60",
   "metadata": {},
   "outputs": [],
   "source": [
    "ensemble_accuracies = []"
   ]
  },
  {
   "cell_type": "markdown",
   "id": "74a49141-e261-40b7-b73a-a1d6f1d6c93b",
   "metadata": {},
   "source": [
    "#### MV for the first dataset"
   ]
  },
  {
   "cell_type": "code",
   "execution_count": 55,
   "id": "b645809e-3d83-4f7b-b13d-43fd1486551f",
   "metadata": {},
   "outputs": [
    {
     "name": "stdout",
     "output_type": "stream",
     "text": [
      "With the first dataset, Accuracy of the majority voting rule is: 88.72%\n"
     ]
    }
   ],
   "source": [
    "acc = MajorityVotingClassifier(x_1_a, y_1_a)\n",
    "print(f\"With the first dataset, Accuracy of the majority voting rule is: {acc:.2f}%\")\n",
    "ensemble_accuracies.append(acc)"
   ]
  },
  {
   "cell_type": "markdown",
   "id": "2c40123b-e8ad-4576-860e-2d6a53384727",
   "metadata": {
    "tags": []
   },
   "source": [
    "#### MV for the second dataset"
   ]
  },
  {
   "cell_type": "code",
   "execution_count": 56,
   "id": "369a6731-a86e-4d86-a785-ef7aaaeff064",
   "metadata": {},
   "outputs": [
    {
     "name": "stdout",
     "output_type": "stream",
     "text": [
      "With the second dataset, Accuracy of the majority voting rule is: 70.08%\n"
     ]
    }
   ],
   "source": [
    "acc = MajorityVotingClassifier(x_1_b, y_1_b)\n",
    "print(f\"With the second dataset, Accuracy of the majority voting rule is: {acc:.2f}%\")\n",
    "ensemble_accuracies.append(acc)"
   ]
  },
  {
   "cell_type": "markdown",
   "id": "2135f770-5135-4ec1-b291-dcd82c17111b",
   "metadata": {},
   "source": [
    "#### MV for the third dataset"
   ]
  },
  {
   "cell_type": "code",
   "execution_count": 57,
   "id": "46d2c9ff-6924-47a7-bb2a-22e6e9f3ba39",
   "metadata": {},
   "outputs": [
    {
     "name": "stdout",
     "output_type": "stream",
     "text": [
      "With the third dataset, Accuracy of the majority voting rule is: 88.48%\n"
     ]
    }
   ],
   "source": [
    "acc = MajorityVotingClassifier(x_1_c, y_1_c)\n",
    "print(f\"With the third dataset, Accuracy of the majority voting rule is: {acc:.2f}%\")\n",
    "ensemble_accuracies.append(acc)"
   ]
  },
  {
   "cell_type": "markdown",
   "id": "9b16129f-4e85-4067-a8bd-d0b62f8543d3",
   "metadata": {},
   "source": [
    "#### MV for the fourth dataset"
   ]
  },
  {
   "cell_type": "code",
   "execution_count": 58,
   "id": "01171604-2b65-42e0-a7f1-4552adeafdad",
   "metadata": {},
   "outputs": [
    {
     "name": "stdout",
     "output_type": "stream",
     "text": [
      "With the fourth dataset, Accuracy of the majority voting rule is: 67.65%\n"
     ]
    }
   ],
   "source": [
    "acc = MajorityVotingClassifier(x_1_d, y_1_d)\n",
    "print(f\"With the fourth dataset, Accuracy of the majority voting rule is: {acc:.2f}%\")\n",
    "ensemble_accuracies.append(acc)"
   ]
  },
  {
   "cell_type": "code",
   "execution_count": 59,
   "id": "567a661e-bf2f-4a63-aa3a-b1ac4b269ba5",
   "metadata": {},
   "outputs": [
    {
     "name": "stdout",
     "output_type": "stream",
     "text": [
      "[88.725, 70.075, 88.47500000000001, 67.65]\n"
     ]
    },
    {
     "data": {
      "image/png": "[encoded data removed]",
      "text/plain": [
       "<Figure size 432x288 with 1 Axes>"
      ]
     },
     "metadata": {
      "needs_background": "light"
     },
     "output_type": "display_data"
    }
   ],
   "source": [
    "plt.bar([1,2,3,4], ensemble_accuracies)\n",
    "plt.xlabel(\"Datasets\")\n",
    "plt.ylabel(\"Accuracy\")\n",
    "plt.title(\"Accuracies obtained by the MV ensemble classifier\")\n",
    "\n",
    "print(ensemble_accuracies)"
   ]
  },
  {
   "cell_type": "markdown",
   "id": "2dd86c9e-c269-43fe-b893-a7adabcd33d0",
   "metadata": {},
   "source": [
    "### 3.b. Weighted majority voting rule WMV"
   ]
  },
  {
   "cell_type": "code",
   "execution_count": 97,
   "id": "c12cd683-fdf0-4270-9189-71bd3cb904d1",
   "metadata": {
    "tags": []
   },
   "outputs": [],
   "source": [
    "def WeightedMajorityVoting(data_x, data_y, weights=[1, 1, 1]):\n",
    "    \"\"\"\n",
    "    The weights are for HT, KNN, and NB, respectively\n",
    "    \"\"\"\n",
    "    \n",
    "    # First, initialize the classifiers\n",
    "    ht = HoeffdingTreeClassifier()\n",
    "    knn = KNNClassifier(n_neighbors=15, max_window_size=5000, leaf_size=40)\n",
    "    nb = NaiveBayes()\n",
    "\n",
    "    # Separate the dataset into train and test sets (ratio is 80:20)\n",
    "    train_x_1_a = data_x[:16000]\n",
    "    test_x_1_a = data_x[16000:]\n",
    "\n",
    "    train_y_1_a = data_y[:16000]\n",
    "    test_y_1_a = data_y[16000:]\n",
    "\n",
    "    # Second, fit the classifiers with the first dataset's training set\n",
    "    ht.fit(train_x_1_a, train_y_1_a)\n",
    "    knn.fit(train_x_1_a, train_y_1_a)\n",
    "    nb.fit(train_x_1_a, train_y_1_a)\n",
    "\n",
    "    # Make predictions by using the three classifiers\n",
    "    ht_prediction = ht.predict(test_x_1_a)\n",
    "    knn_prediction = knn.predict(test_x_1_a)\n",
    "    nb_prediction = nb.predict(test_x_1_a)\n",
    "    \n",
    "    majority_predictions = []\n",
    "\n",
    "    # Select the prediction with the highest frequency as the final prediction\n",
    "    for i in range(4000): # There are 4000 predictions\n",
    "        one_count = 0\n",
    "        zero_count = 0\n",
    "\n",
    "        if ht_prediction[i] == 0:\n",
    "            zero_count += 1 * weights[0]\n",
    "        else:\n",
    "            one_count += 1 * weights[0]\n",
    "\n",
    "        if knn_prediction[i] == 0:\n",
    "            zero_count += 1 * weights[1]\n",
    "        else:\n",
    "            one_count += 1 * weights[1]\n",
    "\n",
    "        if nb_prediction[i] == 0:\n",
    "            zero_count += 1 * weights[2]\n",
    "        else:\n",
    "            one_count += 1 * weights[2]\n",
    "\n",
    "        if zero_count > one_count:\n",
    "            majority_predictions.append(0)\n",
    "        else:\n",
    "            majority_predictions.append(1)    \n",
    "\n",
    "    majority_predictions = np.array(majority_predictions)\n",
    "    \n",
    "    # Calculate the accuracy\n",
    "    correct_count = 0\n",
    "    for i in range(4000):\n",
    "        if majority_predictions[i] == test_y_1_a[i]:\n",
    "            correct_count += 1\n",
    "    \n",
    "    return correct_count / 4000 * 100"
   ]
  },
  {
   "cell_type": "code",
   "execution_count": 98,
   "id": "49d22ac6-92a2-48a1-8c1b-cd03a23ff655",
   "metadata": {},
   "outputs": [],
   "source": [
    "wmv_accuracies = []"
   ]
  },
  {
   "cell_type": "markdown",
   "id": "064c14a5-a9b3-4f77-904c-d4cc97f4a6c4",
   "metadata": {},
   "source": [
    "#### WMV for the first dataset"
   ]
  },
  {
   "cell_type": "code",
   "execution_count": 99,
   "id": "7bc07acb-f6a9-43a1-b450-c37bde114ecb",
   "metadata": {},
   "outputs": [
    {
     "name": "stdout",
     "output_type": "stream",
     "text": [
      "With the first dataset, Accuracy of the weighted majority voting rule is: 89.15%\n"
     ]
    }
   ],
   "source": [
    "acc = WeightedMajorityVoting(x_1_a, y_1_a, weights=[3, 7, 10])\n",
    "print(f\"With the first dataset, Accuracy of the weighted majority voting rule is: {acc:.2f}%\")\n",
    "wmv_accuracies.append(acc)"
   ]
  },
  {
   "cell_type": "markdown",
   "id": "2414d043-1898-4175-a6b8-a621e440c9b1",
   "metadata": {},
   "source": [
    "#### WMV for the second dataset"
   ]
  },
  {
   "cell_type": "code",
   "execution_count": 100,
   "id": "9012b923-1200-4f99-8327-fdb3efd4b98d",
   "metadata": {},
   "outputs": [
    {
     "name": "stdout",
     "output_type": "stream",
     "text": [
      "With the second dataset, Accuracy of the weighted majority voting rule is: 70.05%\n"
     ]
    }
   ],
   "source": [
    "acc = WeightedMajorityVoting(x_1_b, y_1_b, weights=[3, 7, 10])\n",
    "print(f\"With the second dataset, Accuracy of the weighted majority voting rule is: {acc:.2f}%\")\n",
    "wmv_accuracies.append(acc)"
   ]
  },
  {
   "cell_type": "markdown",
   "id": "3a6abea0-5cf2-4f02-a763-0550ad76a9ca",
   "metadata": {},
   "source": [
    "#### WMV for the third dataset"
   ]
  },
  {
   "cell_type": "code",
   "execution_count": 101,
   "id": "4470c2f3-4341-4766-b429-dcdfd33ca44d",
   "metadata": {},
   "outputs": [
    {
     "name": "stdout",
     "output_type": "stream",
     "text": [
      "With the third dataset, Accuracy of the weighted majority voting rule is: 88.80%\n"
     ]
    }
   ],
   "source": [
    "acc = WeightedMajorityVoting(x_1_c, y_1_c, weights=[3, 7, 10])\n",
    "print(f\"With the third dataset, Accuracy of the weighted majority voting rule is: {acc:.2f}%\")\n",
    "wmv_accuracies.append(acc)"
   ]
  },
  {
   "cell_type": "markdown",
   "id": "b7f2fabc-ded2-4f23-823c-a25503bb3549",
   "metadata": {},
   "source": [
    "#### WMV for the fourth dataset"
   ]
  },
  {
   "cell_type": "code",
   "execution_count": 102,
   "id": "60c4e1f7-518e-46e7-922f-777da8a21082",
   "metadata": {},
   "outputs": [
    {
     "name": "stdout",
     "output_type": "stream",
     "text": [
      "With the fourth dataset, Accuracy of the weighted majority voting rule is: 68.40%\n"
     ]
    }
   ],
   "source": [
    "acc = WeightedMajorityVoting(x_1_d, y_1_d, weights=[3, 7, 10])\n",
    "print(f\"With the fourth dataset, Accuracy of the weighted majority voting rule is: {acc:.2f}%\")\n",
    "wmv_accuracies.append(acc)"
   ]
  },
  {
   "cell_type": "code",
   "execution_count": 103,
   "id": "6dde67c8-ca39-472f-83d0-2bf8bb6ed30f",
   "metadata": {},
   "outputs": [
    {
     "name": "stdout",
     "output_type": "stream",
     "text": [
      "[89.14999999999999, 70.05, 88.8, 68.4]\n"
     ]
    },
    {
     "data": {
      "text/plain": [
       "Text(0.5, 1.0, 'Accuracies obtained by the WMV ensemble classifier')"
      ]
     },
     "execution_count": 103,
     "metadata": {},
     "output_type": "execute_result"
    },
    {
     "data": {
      "image/png": "[encoded data removed]",
      "text/plain": [
       "<Figure size 432x288 with 1 Axes>"
      ]
     },
     "metadata": {
      "needs_background": "light"
     },
     "output_type": "display_data"
    }
   ],
   "source": [
    "print(wmv_accuracies)\n",
    "plt.bar([1,2,3,4], wmv_accuracies)\n",
    "plt.xlabel(\"Datasets\")\n",
    "plt.ylabel(\"Accuracy\")\n",
    "plt.title(\"Accuracies obtained by the WMV ensemble classifier\")\n",
    "\n"
   ]
  },
  {
   "cell_type": "code",
   "execution_count": 104,
   "id": "8356303c-4118-4d28-a697-d26b32f73996",
   "metadata": {},
   "outputs": [
    {
     "data": {
      "image/png": "[encoded data removed]",
      "text/plain": [
       "<Figure size 432x288 with 1 Axes>"
      ]
     },
     "metadata": {
      "needs_background": "light"
     },
     "output_type": "display_data"
    }
   ],
   "source": [
    "plt.plot([1,2,3,4], ensemble_accuracies, 'r', label=\"MV\")\n",
    "plt.plot([1,2,3,4], wmv_accuracies, 'g', label=\"WMV\")\n",
    "plt.xlabel(\"Datasets\")\n",
    "plt.ylabel(\"Accuracy\")\n",
    "plt.legend()\n",
    "plt.show()"
   ]
  },
  {
   "cell_type": "code",
   "execution_count": null,
   "id": "49a5efab-875b-414f-a68e-2c0c97b5e690",
   "metadata": {},
   "outputs": [],
   "source": []
  },
  {
   "cell_type": "code",
   "execution_count": null,
   "id": "c4abaf04-a9c0-44ff-9e4e-5d51b65f84e5",
   "metadata": {},
   "outputs": [],
   "source": []
  }
 ],
 "metadata": {
  "kernelspec": {
   "display_name": "Python 3 (ipykernel)",
   "language": "python",
   "name": "python3"
  },
  "language_info": {
   "codemirror_mode": {
    "name": "ipython",
    "version": 3
   },
   "file_extension": ".py",
   "mimetype": "text/x-python",
   "name": "python",
   "nbconvert_exporter": "python",
   "pygments_lexer": "ipython3",
   "version": "3.9.7"
  }
 },
 "nbformat": 4,
 "nbformat_minor": 5
}
